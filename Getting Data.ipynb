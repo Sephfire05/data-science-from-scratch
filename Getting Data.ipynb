{
 "cells": [
  {
   "cell_type": "code",
   "execution_count": 1,
   "metadata": {},
   "outputs": [],
   "source": [
    "# These are the ways to get data"
   ]
  },
  {
   "cell_type": "markdown",
   "metadata": {},
   "source": [
    "## stdin and stdout"
   ]
  },
  {
   "cell_type": "code",
   "execution_count": null,
   "metadata": {},
   "outputs": [],
   "source": [
    "# You can pipe data using sys.stdin and sys.stdout\n",
    "# This reads in lines of text and spits back out the ones that match regular expressions\n",
    "# Use these as script files but you can code them here\n",
    "#####################################################\n",
    "# egrep.py\n",
    "import sys, re\n",
    "# re, regular expressions\n",
    "\n",
    "# sys.argv is the list of command-line arguments\n",
    "# sys.argv[0] is the name of the program itself\n",
    "# sys.argv[1] will be the regex specified at the command line\n",
    "regex = sys.argv[1]\n",
    "\n",
    "# for every line passed into the script\n",
    "for line in sys.stdin:\n",
    "    # if it matches the regex, write it to stdout\n",
    "    if re.search(regex, line):\n",
    "        sys.stdout.write(line)\n",
    "#####################################################\n",
    "# line_count.py\n",
    "import sys\n",
    "\n",
    "count = 0\n",
    "for line in sys.stdin:\n",
    "    count += 1\n",
    "    \n",
    "# print goes to sys.stdout\n",
    "print count\n",
    "# this counts how many lines of a file could contain your regex expression\n",
    "# example in Unix command line\n",
    "# cat Somefile.txt | python egrep.py \"[0-9]\" | python line_count.py\n",
    "# | = output of left = input of right\n",
    "# cat = read file sequentially, use this python script looking for numbers, and count how many lines have numbers\n",
    "#####################################################\n",
    "# most_common_words.py\n",
    "import sys\n",
    "from collections import Counter\n",
    "\n",
    "# pass in number of words as first argument\n",
    "try:\n",
    "    num_words = int(sys.argv[1])\n",
    "except:\n",
    "    print(\"usage: most_common_words.py num_words\")\n",
    "    sys.exit(1)   # non-zero exit code indicates error\n",
    "    \n",
    "counter = Counter(word.lower()                        # lowercase words\n",
    "                 for line in sys.stdin                # for every line in the input file\n",
    "                 for word in line.strip().split()     # split on spaces\n",
    "                 if word)                             # skip empty 'words'\n",
    "\n",
    "for word, count in counter.most_common(num_words):    # tuple in the most_common function instance num_words\n",
    "    sys.stdout.write(str(count))                      # write out the count into the output file\n",
    "    sys.stdout.write(\"\\t\")                            # tab character separation\n",
    "    sys.stdout.write(word)                            # write out the word\n",
    "    sys.stdout.write(\"\\n\")                            # new line \n",
    "    \n",
    "# example in command line\n",
    "# cat the_bible.txt | python most_common_words.py 10 \n",
    "# read the_bible.txt and give the 10 most common words\n"
   ]
  },
  {
   "cell_type": "markdown",
   "metadata": {},
   "source": [
    "## Reading Files"
   ]
  },
  {
   "cell_type": "code",
   "execution_count": null,
   "metadata": {},
   "outputs": [],
   "source": [
    "# You can explicity read from and write to files directly in your code\n",
    "# The Basics of Text Files\n",
    "# Step 1: obtain a file object using open \n",
    "# command open('filename', 'method')\n",
    "\n",
    "# 'r' means read-only\n",
    "file_for_reading = open('reading_file.txt', 'r')\n",
    "\n",
    "# 'w' is write -- will destroy the file if it already exists (truncate)\n",
    "file_for_writing = open('writing_file.txt', 'w')\n",
    "\n",
    "# 'a' is append -- for adding to the end of the file\n",
    "file_for_appending = open('appending_file.txt', 'a')\n",
    "\n",
    "# Be sure to close files, use it in a with block\n",
    "with open(filename, 'r') as f:\n",
    "    data = function_that_gets_data_from(f)\n",
    "    # f should be closed after it pulls data variable, don't try to use file\n",
    "    process(data)\n",
    "\n",
    "# reading a whole text file, you can just iterate over the lines of the file using a for statement\n",
    "\n",
    "    starts_with_has = 0\n",
    "    \n",
    "    with open('input.txt', 'r') as f:\n",
    "        for line in f:                            # look at eah line in the opened file\n",
    "            if re.match(\"^#\", line):              # use a regex to see if it starts with '#'\n",
    "                starts_with_has += 1              # add 1 to count if it does\n",
    "\n",
    "# for ex: if you have a file full of email addresses, 1 / line and want to make a histogram of domains\n",
    "\n",
    "def get_domain(email_address):\n",
    "    \"\"\"split on '@' and return the last piece\"\"\"\n",
    "    return email_address.lower().split(\"@\")[-1]   # lower cased, split at @, return last piece in array\n",
    "\n",
    "with open('email_addresses.txt', 'r') as f:\n",
    "    domain_counts = Counter(get_domain(line.strip())  # line.strip gets rid of \\n character\n",
    "                           for line in f              # go through every line\n",
    "                           if \"@\" in line)            # add to counter if there's an @ symbol\n",
    "                           "
   ]
  },
  {
   "cell_type": "markdown",
   "metadata": {},
   "source": [
    "## Delimited Files (Comma-Separated, Tab-Separated)"
   ]
  },
  {
   "cell_type": "code",
   "execution_count": null,
   "metadata": {},
   "outputs": [],
   "source": [
    "# These files have lots of data on each line, ',' or tabs indicate where the next field starts\n",
    "# Use Python's csv module or pandas library\n",
    "# work with csv files in binary mode, use a b after the r or w\n",
    "# You probably want each row as a list if you have no file headers\n",
    "# Use csv.reader to iterate over the rows which will approximately split list\n",
    "#####################################################\n",
    "import csv\n",
    "\n",
    "with open('tab_delimited_stock_prices.txt', 'rb') as f:            # grabs data from binary csv file\n",
    "    reader = csv.reader(f, delimiter='\\t')                         # tab separation in file\n",
    "    for row in reader:\n",
    "        date = row[0]\n",
    "        symbol = row[1]\n",
    "        closing_price = float(row[2])                              # float value of prices\n",
    "        process(date, symbol, closing_price) \n",
    "#####################################################\n",
    "# if you had headers though such as \n",
    "# date:symbol:closing_price\n",
    "# 6/20/2014:AAPL:90.91\n",
    "# 6/20/2014:MSFT:41.68\n",
    "# 6/20/2014:FB:64.5\n",
    "\n",
    "# You can skip the header row (with reader.next()) or get each row as a dict and use headers as keys\n",
    "# dict method uses csv.DictReader:\n",
    "\n",
    "with open('colon_delimited_stock_prices.txt', 'rb') as f:          # with opens file, grabs data, closes file\n",
    "    reader = csv.DictReader(f, delimiter=':')                      # csv.DictReader on filename using : separator\n",
    "    for row in reader:                                             # go through each row\n",
    "        date = row[\"date\"]                                         # date column\n",
    "        symbol = row[\"symbol\"]                                     # symbol column\n",
    "        closing_price = float(row[\"closing_price\"])                # price as float\n",
    "        process(date, symbol, closing_price)                       # this format as tuple\n",
    "\n",
    "# Can pass keys as fieldnames parameter as well\n",
    "# write out delimited data using csv.writer\n",
    "\n",
    "# today_prices = {'AAPL' : 90.91, 'MSFT' : 41.68, 'FB' : 64.5}\n",
    "\n",
    "with open('comma_delimited_stock_prices.txt', 'wb') as f:\n",
    "    writer = csv.writer(f, delimiter=',')                          # write from this gathered input\n",
    "    for stock, price in today_prices.items():                      # for every key:value in this dict\n",
    "        writer.writerow([stock, price])                            # write rows with this format\n",
    "        "
   ]
  },
  {
   "cell_type": "markdown",
   "metadata": {},
   "source": [
    "## Scraping the Web"
   ]
  },
  {
   "cell_type": "code",
   "execution_count": null,
   "metadata": {},
   "outputs": [],
   "source": [
    "# Getting meaningful structured information out of scraped web pages isn't so easy\n",
    "# HTML and the Parsing Thereof\n",
    "# HTML is not generally well-formed or annotated\n",
    "# Use of BeautifulSoup for a simple interface for accessing HTML Data\n",
    "# Use of requests library for HTTP requests \n",
    "\n",
    "# pip install beautifulsoupX\n",
    "# pip install requests\n",
    "# pip install html5lib\n",
    "\n",
    "# Pass data through the BeautifulSoup() function\n",
    "# this will be the result of a call to requests.get\n",
    "from bs4 import BeautifulSoup\n",
    "import requests\n",
    "html = requests.get(\"http://www.example.com\").text\n",
    "soup = BeautifulSoup(html, 'html5lib')\n",
    "\n",
    "# Work with tag objects, these represent the structure of an HTML page\n",
    "# finding the first <p> tag and its contents\n",
    "first_paragraph = soup.find('p')\n",
    "# text contents of a Tag using text property\n",
    "first_paragraph_text = soup.p.text\n",
    "first_paragraph_words = soup.p.text.split()\n",
    "# Extract tag's attributes by treating it like a dict\n",
    "first_paragraph_id = soup.p['id']                    # key error if no 'id'\n",
    "first_paragraph_id2 = soup.p.get('id')               # returns None if no 'id'\n",
    "# multiple tags at once\n",
    "all_paragraphs = soup.find_all('p') \n",
    "paragraphs_with_ids = [p for p in soup('p') if p.get('id')]          # all paragraphs that return True\n",
    "# finding tags with a specific class\n",
    "important_paragraphs = soup('p', {'class' : 'important'})\n",
    "important_paragraphs2 = soup('p', 'important')\n",
    "important_paragraphs3 = [p for p in soup('p')\n",
    "                        if 'important' in p.get('class', [])]"
   ]
  },
  {
   "cell_type": "markdown",
   "metadata": {},
   "source": [
    "## Using APIs\n",
    "### Application Programming Interfaces"
   ]
  },
  {
   "cell_type": "code",
   "execution_count": 1,
   "metadata": {},
   "outputs": [],
   "source": [
    "# Allows us to explicitly request data in a structured format"
   ]
  },
  {
   "cell_type": "markdown",
   "metadata": {},
   "source": [
    "### JSON (and XML)"
   ]
  },
  {
   "cell_type": "code",
   "execution_count": null,
   "metadata": {},
   "outputs": [],
   "source": [
    "# Data requested through API needs to be serialized into a string format\n",
    "# JSON = JavaScript Object Notation\n",
    "# Can parse JSON using Python's json module\n",
    "# use its loads function which deserializes a string representing a JSON object into a Python object\n",
    "import json\n",
    "serialized = \"\"\"{ \"title\" : \"Data Science Book\",\n",
    "                  \"author\" : \"Joel Grus\",\n",
    "                  \"publicationYear\" : 2014,\n",
    "                  \"topics\" : [\"data\", \"science\", \"data science\"]}\"\"\"\n",
    "\n",
    "# parse the JSON to create a Python dict\n",
    "deserialized = json.loads(serialized)\n",
    "if \"data science\" in deserialized[\"topics\"]:\n",
    "    print deserialized\n",
    "# Use BeautifulSoup to get data from XML"
   ]
  },
  {
   "cell_type": "markdown",
   "metadata": {},
   "source": [
    "### Using an Unauthenticated API"
   ]
  },
  {
   "cell_type": "code",
   "execution_count": 3,
   "metadata": {},
   "outputs": [
    {
     "name": "stdout",
     "output_type": "stream",
     "text": [
      "[{'id': 142181835, 'node_id': 'MDEwOlJlcG9zaXRvcnkxNDIxODE4MzU=', 'name': 'data-science-from-scratch', 'full_name': 'Sephfire05/data-science-from-scratch', 'owner': {'login': 'Sephfire05', 'id': 36177057, 'node_id': 'MDQ6VXNlcjM2MTc3MDU3', 'avatar_url': 'https://avatars2.githubusercontent.com/u/36177057?v=4', 'gravatar_id': '', 'url': 'https://api.github.com/users/Sephfire05', 'html_url': 'https://github.com/Sephfire05', 'followers_url': 'https://api.github.com/users/Sephfire05/followers', 'following_url': 'https://api.github.com/users/Sephfire05/following{/other_user}', 'gists_url': 'https://api.github.com/users/Sephfire05/gists{/gist_id}', 'starred_url': 'https://api.github.com/users/Sephfire05/starred{/owner}{/repo}', 'subscriptions_url': 'https://api.github.com/users/Sephfire05/subscriptions', 'organizations_url': 'https://api.github.com/users/Sephfire05/orgs', 'repos_url': 'https://api.github.com/users/Sephfire05/repos', 'events_url': 'https://api.github.com/users/Sephfire05/events{/privacy}', 'received_events_url': 'https://api.github.com/users/Sephfire05/received_events', 'type': 'User', 'site_admin': False}, 'private': False, 'html_url': 'https://github.com/Sephfire05/data-science-from-scratch', 'description': 'code for Data Science From Scratch book', 'fork': True, 'url': 'https://api.github.com/repos/Sephfire05/data-science-from-scratch', 'forks_url': 'https://api.github.com/repos/Sephfire05/data-science-from-scratch/forks', 'keys_url': 'https://api.github.com/repos/Sephfire05/data-science-from-scratch/keys{/key_id}', 'collaborators_url': 'https://api.github.com/repos/Sephfire05/data-science-from-scratch/collaborators{/collaborator}', 'teams_url': 'https://api.github.com/repos/Sephfire05/data-science-from-scratch/teams', 'hooks_url': 'https://api.github.com/repos/Sephfire05/data-science-from-scratch/hooks', 'issue_events_url': 'https://api.github.com/repos/Sephfire05/data-science-from-scratch/issues/events{/number}', 'events_url': 'https://api.github.com/repos/Sephfire05/data-science-from-scratch/events', 'assignees_url': 'https://api.github.com/repos/Sephfire05/data-science-from-scratch/assignees{/user}', 'branches_url': 'https://api.github.com/repos/Sephfire05/data-science-from-scratch/branches{/branch}', 'tags_url': 'https://api.github.com/repos/Sephfire05/data-science-from-scratch/tags', 'blobs_url': 'https://api.github.com/repos/Sephfire05/data-science-from-scratch/git/blobs{/sha}', 'git_tags_url': 'https://api.github.com/repos/Sephfire05/data-science-from-scratch/git/tags{/sha}', 'git_refs_url': 'https://api.github.com/repos/Sephfire05/data-science-from-scratch/git/refs{/sha}', 'trees_url': 'https://api.github.com/repos/Sephfire05/data-science-from-scratch/git/trees{/sha}', 'statuses_url': 'https://api.github.com/repos/Sephfire05/data-science-from-scratch/statuses/{sha}', 'languages_url': 'https://api.github.com/repos/Sephfire05/data-science-from-scratch/languages', 'stargazers_url': 'https://api.github.com/repos/Sephfire05/data-science-from-scratch/stargazers', 'contributors_url': 'https://api.github.com/repos/Sephfire05/data-science-from-scratch/contributors', 'subscribers_url': 'https://api.github.com/repos/Sephfire05/data-science-from-scratch/subscribers', 'subscription_url': 'https://api.github.com/repos/Sephfire05/data-science-from-scratch/subscription', 'commits_url': 'https://api.github.com/repos/Sephfire05/data-science-from-scratch/commits{/sha}', 'git_commits_url': 'https://api.github.com/repos/Sephfire05/data-science-from-scratch/git/commits{/sha}', 'comments_url': 'https://api.github.com/repos/Sephfire05/data-science-from-scratch/comments{/number}', 'issue_comment_url': 'https://api.github.com/repos/Sephfire05/data-science-from-scratch/issues/comments{/number}', 'contents_url': 'https://api.github.com/repos/Sephfire05/data-science-from-scratch/contents/{+path}', 'compare_url': 'https://api.github.com/repos/Sephfire05/data-science-from-scratch/compare/{base}...{head}', 'merges_url': 'https://api.github.com/repos/Sephfire05/data-science-from-scratch/merges', 'archive_url': 'https://api.github.com/repos/Sephfire05/data-science-from-scratch/{archive_format}{/ref}', 'downloads_url': 'https://api.github.com/repos/Sephfire05/data-science-from-scratch/downloads', 'issues_url': 'https://api.github.com/repos/Sephfire05/data-science-from-scratch/issues{/number}', 'pulls_url': 'https://api.github.com/repos/Sephfire05/data-science-from-scratch/pulls{/number}', 'milestones_url': 'https://api.github.com/repos/Sephfire05/data-science-from-scratch/milestones{/number}', 'notifications_url': 'https://api.github.com/repos/Sephfire05/data-science-from-scratch/notifications{?since,all,participating}', 'labels_url': 'https://api.github.com/repos/Sephfire05/data-science-from-scratch/labels{/name}', 'releases_url': 'https://api.github.com/repos/Sephfire05/data-science-from-scratch/releases{/id}', 'deployments_url': 'https://api.github.com/repos/Sephfire05/data-science-from-scratch/deployments', 'created_at': '2018-07-24T15:59:10Z', 'updated_at': '2018-07-24T15:59:12Z', 'pushed_at': '2018-07-14T13:57:30Z', 'git_url': 'git://github.com/Sephfire05/data-science-from-scratch.git', 'ssh_url': 'git@github.com:Sephfire05/data-science-from-scratch.git', 'clone_url': 'https://github.com/Sephfire05/data-science-from-scratch.git', 'svn_url': 'https://github.com/Sephfire05/data-science-from-scratch', 'homepage': None, 'size': 194, 'stargazers_count': 0, 'watchers_count': 0, 'language': 'Python', 'has_issues': False, 'has_projects': True, 'has_downloads': True, 'has_wiki': True, 'has_pages': False, 'forks_count': 0, 'mirror_url': None, 'archived': False, 'open_issues_count': 0, 'license': {'key': 'unlicense', 'name': 'The Unlicense', 'spdx_id': 'Unlicense', 'url': 'https://api.github.com/licenses/unlicense', 'node_id': 'MDc6TGljZW5zZTE1'}, 'forks': 0, 'open_issues': 0, 'watchers': 0, 'default_branch': 'master'}, {'id': 131199068, 'node_id': 'MDEwOlJlcG9zaXRvcnkxMzExOTkwNjg=', 'name': 'DL-HEP-2018', 'full_name': 'Sephfire05/DL-HEP-2018', 'owner': {'login': 'Sephfire05', 'id': 36177057, 'node_id': 'MDQ6VXNlcjM2MTc3MDU3', 'avatar_url': 'https://avatars2.githubusercontent.com/u/36177057?v=4', 'gravatar_id': '', 'url': 'https://api.github.com/users/Sephfire05', 'html_url': 'https://github.com/Sephfire05', 'followers_url': 'https://api.github.com/users/Sephfire05/followers', 'following_url': 'https://api.github.com/users/Sephfire05/following{/other_user}', 'gists_url': 'https://api.github.com/users/Sephfire05/gists{/gist_id}', 'starred_url': 'https://api.github.com/users/Sephfire05/starred{/owner}{/repo}', 'subscriptions_url': 'https://api.github.com/users/Sephfire05/subscriptions', 'organizations_url': 'https://api.github.com/users/Sephfire05/orgs', 'repos_url': 'https://api.github.com/users/Sephfire05/repos', 'events_url': 'https://api.github.com/users/Sephfire05/events{/privacy}', 'received_events_url': 'https://api.github.com/users/Sephfire05/received_events', 'type': 'User', 'site_admin': False}, 'private': False, 'html_url': 'https://github.com/Sephfire05/DL-HEP-2018', 'description': 'Deep Learning', 'fork': False, 'url': 'https://api.github.com/repos/Sephfire05/DL-HEP-2018', 'forks_url': 'https://api.github.com/repos/Sephfire05/DL-HEP-2018/forks', 'keys_url': 'https://api.github.com/repos/Sephfire05/DL-HEP-2018/keys{/key_id}', 'collaborators_url': 'https://api.github.com/repos/Sephfire05/DL-HEP-2018/collaborators{/collaborator}', 'teams_url': 'https://api.github.com/repos/Sephfire05/DL-HEP-2018/teams', 'hooks_url': 'https://api.github.com/repos/Sephfire05/DL-HEP-2018/hooks', 'issue_events_url': 'https://api.github.com/repos/Sephfire05/DL-HEP-2018/issues/events{/number}', 'events_url': 'https://api.github.com/repos/Sephfire05/DL-HEP-2018/events', 'assignees_url': 'https://api.github.com/repos/Sephfire05/DL-HEP-2018/assignees{/user}', 'branches_url': 'https://api.github.com/repos/Sephfire05/DL-HEP-2018/branches{/branch}', 'tags_url': 'https://api.github.com/repos/Sephfire05/DL-HEP-2018/tags', 'blobs_url': 'https://api.github.com/repos/Sephfire05/DL-HEP-2018/git/blobs{/sha}', 'git_tags_url': 'https://api.github.com/repos/Sephfire05/DL-HEP-2018/git/tags{/sha}', 'git_refs_url': 'https://api.github.com/repos/Sephfire05/DL-HEP-2018/git/refs{/sha}', 'trees_url': 'https://api.github.com/repos/Sephfire05/DL-HEP-2018/git/trees{/sha}', 'statuses_url': 'https://api.github.com/repos/Sephfire05/DL-HEP-2018/statuses/{sha}', 'languages_url': 'https://api.github.com/repos/Sephfire05/DL-HEP-2018/languages', 'stargazers_url': 'https://api.github.com/repos/Sephfire05/DL-HEP-2018/stargazers', 'contributors_url': 'https://api.github.com/repos/Sephfire05/DL-HEP-2018/contributors', 'subscribers_url': 'https://api.github.com/repos/Sephfire05/DL-HEP-2018/subscribers', 'subscription_url': 'https://api.github.com/repos/Sephfire05/DL-HEP-2018/subscription', 'commits_url': 'https://api.github.com/repos/Sephfire05/DL-HEP-2018/commits{/sha}', 'git_commits_url': 'https://api.github.com/repos/Sephfire05/DL-HEP-2018/git/commits{/sha}', 'comments_url': 'https://api.github.com/repos/Sephfire05/DL-HEP-2018/comments{/number}', 'issue_comment_url': 'https://api.github.com/repos/Sephfire05/DL-HEP-2018/issues/comments{/number}', 'contents_url': 'https://api.github.com/repos/Sephfire05/DL-HEP-2018/contents/{+path}', 'compare_url': 'https://api.github.com/repos/Sephfire05/DL-HEP-2018/compare/{base}...{head}', 'merges_url': 'https://api.github.com/repos/Sephfire05/DL-HEP-2018/merges', 'archive_url': 'https://api.github.com/repos/Sephfire05/DL-HEP-2018/{archive_format}{/ref}', 'downloads_url': 'https://api.github.com/repos/Sephfire05/DL-HEP-2018/downloads', 'issues_url': 'https://api.github.com/repos/Sephfire05/DL-HEP-2018/issues{/number}', 'pulls_url': 'https://api.github.com/repos/Sephfire05/DL-HEP-2018/pulls{/number}', 'milestones_url': 'https://api.github.com/repos/Sephfire05/DL-HEP-2018/milestones{/number}', 'notifications_url': 'https://api.github.com/repos/Sephfire05/DL-HEP-2018/notifications{?since,all,participating}', 'labels_url': 'https://api.github.com/repos/Sephfire05/DL-HEP-2018/labels{/name}', 'releases_url': 'https://api.github.com/repos/Sephfire05/DL-HEP-2018/releases{/id}', 'deployments_url': 'https://api.github.com/repos/Sephfire05/DL-HEP-2018/deployments', 'created_at': '2018-04-26T19:03:31Z', 'updated_at': '2018-04-26T19:03:33Z', 'pushed_at': '2018-04-26T19:03:33Z', 'git_url': 'git://github.com/Sephfire05/DL-HEP-2018.git', 'ssh_url': 'git@github.com:Sephfire05/DL-HEP-2018.git', 'clone_url': 'https://github.com/Sephfire05/DL-HEP-2018.git', 'svn_url': 'https://github.com/Sephfire05/DL-HEP-2018', 'homepage': None, 'size': 0, 'stargazers_count': 0, 'watchers_count': 0, 'language': None, 'has_issues': True, 'has_projects': True, 'has_downloads': True, 'has_wiki': True, 'has_pages': False, 'forks_count': 0, 'mirror_url': None, 'archived': False, 'open_issues_count': 0, 'license': None, 'forks': 0, 'open_issues': 0, 'watchers': 0, 'default_branch': 'master'}, {'id': 120380936, 'node_id': 'MDEwOlJlcG9zaXRvcnkxMjAzODA5MzY=', 'name': 'DLHEP2018', 'full_name': 'Sephfire05/DLHEP2018', 'owner': {'login': 'Sephfire05', 'id': 36177057, 'node_id': 'MDQ6VXNlcjM2MTc3MDU3', 'avatar_url': 'https://avatars2.githubusercontent.com/u/36177057?v=4', 'gravatar_id': '', 'url': 'https://api.github.com/users/Sephfire05', 'html_url': 'https://github.com/Sephfire05', 'followers_url': 'https://api.github.com/users/Sephfire05/followers', 'following_url': 'https://api.github.com/users/Sephfire05/following{/other_user}', 'gists_url': 'https://api.github.com/users/Sephfire05/gists{/gist_id}', 'starred_url': 'https://api.github.com/users/Sephfire05/starred{/owner}{/repo}', 'subscriptions_url': 'https://api.github.com/users/Sephfire05/subscriptions', 'organizations_url': 'https://api.github.com/users/Sephfire05/orgs', 'repos_url': 'https://api.github.com/users/Sephfire05/repos', 'events_url': 'https://api.github.com/users/Sephfire05/events{/privacy}', 'received_events_url': 'https://api.github.com/users/Sephfire05/received_events', 'type': 'User', 'site_admin': False}, 'private': False, 'html_url': 'https://github.com/Sephfire05/DLHEP2018', 'description': None, 'fork': True, 'url': 'https://api.github.com/repos/Sephfire05/DLHEP2018', 'forks_url': 'https://api.github.com/repos/Sephfire05/DLHEP2018/forks', 'keys_url': 'https://api.github.com/repos/Sephfire05/DLHEP2018/keys{/key_id}', 'collaborators_url': 'https://api.github.com/repos/Sephfire05/DLHEP2018/collaborators{/collaborator}', 'teams_url': 'https://api.github.com/repos/Sephfire05/DLHEP2018/teams', 'hooks_url': 'https://api.github.com/repos/Sephfire05/DLHEP2018/hooks', 'issue_events_url': 'https://api.github.com/repos/Sephfire05/DLHEP2018/issues/events{/number}', 'events_url': 'https://api.github.com/repos/Sephfire05/DLHEP2018/events', 'assignees_url': 'https://api.github.com/repos/Sephfire05/DLHEP2018/assignees{/user}', 'branches_url': 'https://api.github.com/repos/Sephfire05/DLHEP2018/branches{/branch}', 'tags_url': 'https://api.github.com/repos/Sephfire05/DLHEP2018/tags', 'blobs_url': 'https://api.github.com/repos/Sephfire05/DLHEP2018/git/blobs{/sha}', 'git_tags_url': 'https://api.github.com/repos/Sephfire05/DLHEP2018/git/tags{/sha}', 'git_refs_url': 'https://api.github.com/repos/Sephfire05/DLHEP2018/git/refs{/sha}', 'trees_url': 'https://api.github.com/repos/Sephfire05/DLHEP2018/git/trees{/sha}', 'statuses_url': 'https://api.github.com/repos/Sephfire05/DLHEP2018/statuses/{sha}', 'languages_url': 'https://api.github.com/repos/Sephfire05/DLHEP2018/languages', 'stargazers_url': 'https://api.github.com/repos/Sephfire05/DLHEP2018/stargazers', 'contributors_url': 'https://api.github.com/repos/Sephfire05/DLHEP2018/contributors', 'subscribers_url': 'https://api.github.com/repos/Sephfire05/DLHEP2018/subscribers', 'subscription_url': 'https://api.github.com/repos/Sephfire05/DLHEP2018/subscription', 'commits_url': 'https://api.github.com/repos/Sephfire05/DLHEP2018/commits{/sha}', 'git_commits_url': 'https://api.github.com/repos/Sephfire05/DLHEP2018/git/commits{/sha}', 'comments_url': 'https://api.github.com/repos/Sephfire05/DLHEP2018/comments{/number}', 'issue_comment_url': 'https://api.github.com/repos/Sephfire05/DLHEP2018/issues/comments{/number}', 'contents_url': 'https://api.github.com/repos/Sephfire05/DLHEP2018/contents/{+path}', 'compare_url': 'https://api.github.com/repos/Sephfire05/DLHEP2018/compare/{base}...{head}', 'merges_url': 'https://api.github.com/repos/Sephfire05/DLHEP2018/merges', 'archive_url': 'https://api.github.com/repos/Sephfire05/DLHEP2018/{archive_format}{/ref}', 'downloads_url': 'https://api.github.com/repos/Sephfire05/DLHEP2018/downloads', 'issues_url': 'https://api.github.com/repos/Sephfire05/DLHEP2018/issues{/number}', 'pulls_url': 'https://api.github.com/repos/Sephfire05/DLHEP2018/pulls{/number}', 'milestones_url': 'https://api.github.com/repos/Sephfire05/DLHEP2018/milestones{/number}', 'notifications_url': 'https://api.github.com/repos/Sephfire05/DLHEP2018/notifications{?since,all,participating}', 'labels_url': 'https://api.github.com/repos/Sephfire05/DLHEP2018/labels{/name}', 'releases_url': 'https://api.github.com/repos/Sephfire05/DLHEP2018/releases{/id}', 'deployments_url': 'https://api.github.com/repos/Sephfire05/DLHEP2018/deployments', 'created_at': '2018-02-06T00:41:39Z', 'updated_at': '2018-04-28T17:52:22Z', 'pushed_at': '2018-04-28T17:52:20Z', 'git_url': 'git://github.com/Sephfire05/DLHEP2018.git', 'ssh_url': 'git@github.com:Sephfire05/DLHEP2018.git', 'clone_url': 'https://github.com/Sephfire05/DLHEP2018.git', 'svn_url': 'https://github.com/Sephfire05/DLHEP2018', 'homepage': None, 'size': 1126, 'stargazers_count': 0, 'watchers_count': 0, 'language': 'Jupyter Notebook', 'has_issues': False, 'has_projects': True, 'has_downloads': True, 'has_wiki': True, 'has_pages': False, 'forks_count': 0, 'mirror_url': None, 'archived': False, 'open_issues_count': 0, 'license': None, 'forks': 0, 'open_issues': 0, 'watchers': 0, 'default_branch': 'master'}, {'id': 132514447, 'node_id': 'MDEwOlJlcG9zaXRvcnkxMzI1MTQ0NDc=', 'name': 'Giant-Squid-Axon-Potential-with-LTSM', 'full_name': 'Sephfire05/Giant-Squid-Axon-Potential-with-LTSM', 'owner': {'login': 'Sephfire05', 'id': 36177057, 'node_id': 'MDQ6VXNlcjM2MTc3MDU3', 'avatar_url': 'https://avatars2.githubusercontent.com/u/36177057?v=4', 'gravatar_id': '', 'url': 'https://api.github.com/users/Sephfire05', 'html_url': 'https://github.com/Sephfire05', 'followers_url': 'https://api.github.com/users/Sephfire05/followers', 'following_url': 'https://api.github.com/users/Sephfire05/following{/other_user}', 'gists_url': 'https://api.github.com/users/Sephfire05/gists{/gist_id}', 'starred_url': 'https://api.github.com/users/Sephfire05/starred{/owner}{/repo}', 'subscriptions_url': 'https://api.github.com/users/Sephfire05/subscriptions', 'organizations_url': 'https://api.github.com/users/Sephfire05/orgs', 'repos_url': 'https://api.github.com/users/Sephfire05/repos', 'events_url': 'https://api.github.com/users/Sephfire05/events{/privacy}', 'received_events_url': 'https://api.github.com/users/Sephfire05/received_events', 'type': 'User', 'site_admin': False}, 'private': False, 'html_url': 'https://github.com/Sephfire05/Giant-Squid-Axon-Potential-with-LTSM', 'description': None, 'fork': False, 'url': 'https://api.github.com/repos/Sephfire05/Giant-Squid-Axon-Potential-with-LTSM', 'forks_url': 'https://api.github.com/repos/Sephfire05/Giant-Squid-Axon-Potential-with-LTSM/forks', 'keys_url': 'https://api.github.com/repos/Sephfire05/Giant-Squid-Axon-Potential-with-LTSM/keys{/key_id}', 'collaborators_url': 'https://api.github.com/repos/Sephfire05/Giant-Squid-Axon-Potential-with-LTSM/collaborators{/collaborator}', 'teams_url': 'https://api.github.com/repos/Sephfire05/Giant-Squid-Axon-Potential-with-LTSM/teams', 'hooks_url': 'https://api.github.com/repos/Sephfire05/Giant-Squid-Axon-Potential-with-LTSM/hooks', 'issue_events_url': 'https://api.github.com/repos/Sephfire05/Giant-Squid-Axon-Potential-with-LTSM/issues/events{/number}', 'events_url': 'https://api.github.com/repos/Sephfire05/Giant-Squid-Axon-Potential-with-LTSM/events', 'assignees_url': 'https://api.github.com/repos/Sephfire05/Giant-Squid-Axon-Potential-with-LTSM/assignees{/user}', 'branches_url': 'https://api.github.com/repos/Sephfire05/Giant-Squid-Axon-Potential-with-LTSM/branches{/branch}', 'tags_url': 'https://api.github.com/repos/Sephfire05/Giant-Squid-Axon-Potential-with-LTSM/tags', 'blobs_url': 'https://api.github.com/repos/Sephfire05/Giant-Squid-Axon-Potential-with-LTSM/git/blobs{/sha}', 'git_tags_url': 'https://api.github.com/repos/Sephfire05/Giant-Squid-Axon-Potential-with-LTSM/git/tags{/sha}', 'git_refs_url': 'https://api.github.com/repos/Sephfire05/Giant-Squid-Axon-Potential-with-LTSM/git/refs{/sha}', 'trees_url': 'https://api.github.com/repos/Sephfire05/Giant-Squid-Axon-Potential-with-LTSM/git/trees{/sha}', 'statuses_url': 'https://api.github.com/repos/Sephfire05/Giant-Squid-Axon-Potential-with-LTSM/statuses/{sha}', 'languages_url': 'https://api.github.com/repos/Sephfire05/Giant-Squid-Axon-Potential-with-LTSM/languages', 'stargazers_url': 'https://api.github.com/repos/Sephfire05/Giant-Squid-Axon-Potential-with-LTSM/stargazers', 'contributors_url': 'https://api.github.com/repos/Sephfire05/Giant-Squid-Axon-Potential-with-LTSM/contributors', 'subscribers_url': 'https://api.github.com/repos/Sephfire05/Giant-Squid-Axon-Potential-with-LTSM/subscribers', 'subscription_url': 'https://api.github.com/repos/Sephfire05/Giant-Squid-Axon-Potential-with-LTSM/subscription', 'commits_url': 'https://api.github.com/repos/Sephfire05/Giant-Squid-Axon-Potential-with-LTSM/commits{/sha}', 'git_commits_url': 'https://api.github.com/repos/Sephfire05/Giant-Squid-Axon-Potential-with-LTSM/git/commits{/sha}', 'comments_url': 'https://api.github.com/repos/Sephfire05/Giant-Squid-Axon-Potential-with-LTSM/comments{/number}', 'issue_comment_url': 'https://api.github.com/repos/Sephfire05/Giant-Squid-Axon-Potential-with-LTSM/issues/comments{/number}', 'contents_url': 'https://api.github.com/repos/Sephfire05/Giant-Squid-Axon-Potential-with-LTSM/contents/{+path}', 'compare_url': 'https://api.github.com/repos/Sephfire05/Giant-Squid-Axon-Potential-with-LTSM/compare/{base}...{head}', 'merges_url': 'https://api.github.com/repos/Sephfire05/Giant-Squid-Axon-Potential-with-LTSM/merges', 'archive_url': 'https://api.github.com/repos/Sephfire05/Giant-Squid-Axon-Potential-with-LTSM/{archive_format}{/ref}', 'downloads_url': 'https://api.github.com/repos/Sephfire05/Giant-Squid-Axon-Potential-with-LTSM/downloads', 'issues_url': 'https://api.github.com/repos/Sephfire05/Giant-Squid-Axon-Potential-with-LTSM/issues{/number}', 'pulls_url': 'https://api.github.com/repos/Sephfire05/Giant-Squid-Axon-Potential-with-LTSM/pulls{/number}', 'milestones_url': 'https://api.github.com/repos/Sephfire05/Giant-Squid-Axon-Potential-with-LTSM/milestones{/number}', 'notifications_url': 'https://api.github.com/repos/Sephfire05/Giant-Squid-Axon-Potential-with-LTSM/notifications{?since,all,participating}', 'labels_url': 'https://api.github.com/repos/Sephfire05/Giant-Squid-Axon-Potential-with-LTSM/labels{/name}', 'releases_url': 'https://api.github.com/repos/Sephfire05/Giant-Squid-Axon-Potential-with-LTSM/releases{/id}', 'deployments_url': 'https://api.github.com/repos/Sephfire05/Giant-Squid-Axon-Potential-with-LTSM/deployments', 'created_at': '2018-05-07T20:44:00Z', 'updated_at': '2018-05-07T21:16:07Z', 'pushed_at': '2018-05-07T21:16:06Z', 'git_url': 'git://github.com/Sephfire05/Giant-Squid-Axon-Potential-with-LTSM.git', 'ssh_url': 'git@github.com:Sephfire05/Giant-Squid-Axon-Potential-with-LTSM.git', 'clone_url': 'https://github.com/Sephfire05/Giant-Squid-Axon-Potential-with-LTSM.git', 'svn_url': 'https://github.com/Sephfire05/Giant-Squid-Axon-Potential-with-LTSM', 'homepage': None, 'size': 21, 'stargazers_count': 0, 'watchers_count': 0, 'language': 'Jupyter Notebook', 'has_issues': True, 'has_projects': True, 'has_downloads': True, 'has_wiki': True, 'has_pages': False, 'forks_count': 0, 'mirror_url': None, 'archived': False, 'open_issues_count': 0, 'license': None, 'forks': 0, 'open_issues': 0, 'watchers': 0, 'default_branch': 'master'}, {'id': 120380828, 'node_id': 'MDEwOlJlcG9zaXRvcnkxMjAzODA4Mjg=', 'name': 'jluera', 'full_name': 'Sephfire05/jluera', 'owner': {'login': 'Sephfire05', 'id': 36177057, 'node_id': 'MDQ6VXNlcjM2MTc3MDU3', 'avatar_url': 'https://avatars2.githubusercontent.com/u/36177057?v=4', 'gravatar_id': '', 'url': 'https://api.github.com/users/Sephfire05', 'html_url': 'https://github.com/Sephfire05', 'followers_url': 'https://api.github.com/users/Sephfire05/followers', 'following_url': 'https://api.github.com/users/Sephfire05/following{/other_user}', 'gists_url': 'https://api.github.com/users/Sephfire05/gists{/gist_id}', 'starred_url': 'https://api.github.com/users/Sephfire05/starred{/owner}{/repo}', 'subscriptions_url': 'https://api.github.com/users/Sephfire05/subscriptions', 'organizations_url': 'https://api.github.com/users/Sephfire05/orgs', 'repos_url': 'https://api.github.com/users/Sephfire05/repos', 'events_url': 'https://api.github.com/users/Sephfire05/events{/privacy}', 'received_events_url': 'https://api.github.com/users/Sephfire05/received_events', 'type': 'User', 'site_admin': False}, 'private': False, 'html_url': 'https://github.com/Sephfire05/jluera', 'description': None, 'fork': False, 'url': 'https://api.github.com/repos/Sephfire05/jluera', 'forks_url': 'https://api.github.com/repos/Sephfire05/jluera/forks', 'keys_url': 'https://api.github.com/repos/Sephfire05/jluera/keys{/key_id}', 'collaborators_url': 'https://api.github.com/repos/Sephfire05/jluera/collaborators{/collaborator}', 'teams_url': 'https://api.github.com/repos/Sephfire05/jluera/teams', 'hooks_url': 'https://api.github.com/repos/Sephfire05/jluera/hooks', 'issue_events_url': 'https://api.github.com/repos/Sephfire05/jluera/issues/events{/number}', 'events_url': 'https://api.github.com/repos/Sephfire05/jluera/events', 'assignees_url': 'https://api.github.com/repos/Sephfire05/jluera/assignees{/user}', 'branches_url': 'https://api.github.com/repos/Sephfire05/jluera/branches{/branch}', 'tags_url': 'https://api.github.com/repos/Sephfire05/jluera/tags', 'blobs_url': 'https://api.github.com/repos/Sephfire05/jluera/git/blobs{/sha}', 'git_tags_url': 'https://api.github.com/repos/Sephfire05/jluera/git/tags{/sha}', 'git_refs_url': 'https://api.github.com/repos/Sephfire05/jluera/git/refs{/sha}', 'trees_url': 'https://api.github.com/repos/Sephfire05/jluera/git/trees{/sha}', 'statuses_url': 'https://api.github.com/repos/Sephfire05/jluera/statuses/{sha}', 'languages_url': 'https://api.github.com/repos/Sephfire05/jluera/languages', 'stargazers_url': 'https://api.github.com/repos/Sephfire05/jluera/stargazers', 'contributors_url': 'https://api.github.com/repos/Sephfire05/jluera/contributors', 'subscribers_url': 'https://api.github.com/repos/Sephfire05/jluera/subscribers', 'subscription_url': 'https://api.github.com/repos/Sephfire05/jluera/subscription', 'commits_url': 'https://api.github.com/repos/Sephfire05/jluera/commits{/sha}', 'git_commits_url': 'https://api.github.com/repos/Sephfire05/jluera/git/commits{/sha}', 'comments_url': 'https://api.github.com/repos/Sephfire05/jluera/comments{/number}', 'issue_comment_url': 'https://api.github.com/repos/Sephfire05/jluera/issues/comments{/number}', 'contents_url': 'https://api.github.com/repos/Sephfire05/jluera/contents/{+path}', 'compare_url': 'https://api.github.com/repos/Sephfire05/jluera/compare/{base}...{head}', 'merges_url': 'https://api.github.com/repos/Sephfire05/jluera/merges', 'archive_url': 'https://api.github.com/repos/Sephfire05/jluera/{archive_format}{/ref}', 'downloads_url': 'https://api.github.com/repos/Sephfire05/jluera/downloads', 'issues_url': 'https://api.github.com/repos/Sephfire05/jluera/issues{/number}', 'pulls_url': 'https://api.github.com/repos/Sephfire05/jluera/pulls{/number}', 'milestones_url': 'https://api.github.com/repos/Sephfire05/jluera/milestones{/number}', 'notifications_url': 'https://api.github.com/repos/Sephfire05/jluera/notifications{?since,all,participating}', 'labels_url': 'https://api.github.com/repos/Sephfire05/jluera/labels{/name}', 'releases_url': 'https://api.github.com/repos/Sephfire05/jluera/releases{/id}', 'deployments_url': 'https://api.github.com/repos/Sephfire05/jluera/deployments', 'created_at': '2018-02-06T00:40:28Z', 'updated_at': '2018-02-06T00:40:28Z', 'pushed_at': '2018-02-06T00:40:28Z', 'git_url': 'git://github.com/Sephfire05/jluera.git', 'ssh_url': 'git@github.com:Sephfire05/jluera.git', 'clone_url': 'https://github.com/Sephfire05/jluera.git', 'svn_url': 'https://github.com/Sephfire05/jluera', 'homepage': None, 'size': 0, 'stargazers_count': 0, 'watchers_count': 0, 'language': None, 'has_issues': True, 'has_projects': True, 'has_downloads': True, 'has_wiki': True, 'has_pages': False, 'forks_count': 0, 'mirror_url': None, 'archived': False, 'open_issues_count': 0, 'license': None, 'forks': 0, 'open_issues': 0, 'watchers': 0, 'default_branch': 'master'}]\n"
     ]
    }
   ],
   "source": [
    "import requests, json\n",
    "endpoint = \"https://api.github.com/users/sephfire05/repos\"\n",
    "\n",
    "repos = json.loads(requests.get(endpoint).text)\n",
    "print(repos)\n",
    "# Responses in unicode string"
   ]
  },
  {
   "cell_type": "code",
   "execution_count": 11,
   "metadata": {},
   "outputs": [
    {
     "name": "stdout",
     "output_type": "stream",
     "text": [
      "[datetime.datetime(2018, 7, 24, 15, 59, 10, tzinfo=tzutc()), datetime.datetime(2018, 4, 26, 19, 3, 31, tzinfo=tzutc()), datetime.datetime(2018, 2, 6, 0, 41, 39, tzinfo=tzutc()), datetime.datetime(2018, 5, 7, 20, 44, tzinfo=tzutc()), datetime.datetime(2018, 2, 6, 0, 40, 28, tzinfo=tzutc())]\n",
      "Counter({2: 2, 7: 1, 4: 1, 5: 1})\n",
      "Counter({1: 3, 3: 1, 0: 1})\n"
     ]
    }
   ],
   "source": [
    "# Use a date parser\n",
    "from collections import Counter\n",
    "from dateutil.parser import parse\n",
    "\n",
    "dates = [parse(repo[\"created_at\"]) for repo in repos]\n",
    "month_counts = Counter(date.month for date in dates)\n",
    "weekday_counts = Counter(date.weekday() for date in dates)\n",
    "print(dates)\n",
    "print(month_counts)\n",
    "print(weekday_counts)\n",
    "last_5_repositories = sorted(repos,\n",
    "                            key=lambda r: r[\"created_at\"],\n",
    "                            reverse=True)[:5]"
   ]
  },
  {
   "cell_type": "markdown",
   "metadata": {},
   "source": [
    "### Finding APIs"
   ]
  },
  {
   "cell_type": "markdown",
   "metadata": {},
   "source": [
    "#### Search the web for \"python ___ api\" to find a library\n",
    "#### For a list of APIs that have Python wrappers, 2 directories are at Python API (http://www.pythonapi.com) and Python for Beginners (http://bit.ly/IL35VOR)"
   ]
  },
  {
   "cell_type": "markdown",
   "metadata": {},
   "source": [
    "## Pandas is the primary library that data science types use for working with(and, in particular, importing) data."
   ]
  },
  {
   "cell_type": "code",
   "execution_count": null,
   "metadata": {},
   "outputs": [],
   "source": []
  }
 ],
 "metadata": {
  "kernelspec": {
   "display_name": "Python 3",
   "language": "python",
   "name": "python3"
  },
  "language_info": {
   "codemirror_mode": {
    "name": "ipython",
    "version": 3
   },
   "file_extension": ".py",
   "mimetype": "text/x-python",
   "name": "python",
   "nbconvert_exporter": "python",
   "pygments_lexer": "ipython3",
   "version": "3.6.5"
  }
 },
 "nbformat": 4,
 "nbformat_minor": 2
}
