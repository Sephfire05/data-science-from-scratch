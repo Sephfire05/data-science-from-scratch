{
 "cells": [
  {
   "cell_type": "code",
   "execution_count": 1,
   "metadata": {},
   "outputs": [
    {
     "name": "stdout",
     "output_type": "stream",
     "text": [
      "The Zen of Python, by Tim Peters\n",
      "\n",
      "Beautiful is better than ugly.\n",
      "Explicit is better than implicit.\n",
      "Simple is better than complex.\n",
      "Complex is better than complicated.\n",
      "Flat is better than nested.\n",
      "Sparse is better than dense.\n",
      "Readability counts.\n",
      "Special cases aren't special enough to break the rules.\n",
      "Although practicality beats purity.\n",
      "Errors should never pass silently.\n",
      "Unless explicitly silenced.\n",
      "In the face of ambiguity, refuse the temptation to guess.\n",
      "There should be one-- and preferably only one --obvious way to do it.\n",
      "Although that way may not be obvious at first unless you're Dutch.\n",
      "Now is better than never.\n",
      "Although never is often better than *right* now.\n",
      "If the implementation is hard to explain, it's a bad idea.\n",
      "If the implementation is easy to explain, it may be a good idea.\n",
      "Namespaces are one honking great idea -- let's do more of those!\n"
     ]
    }
   ],
   "source": [
    "import this"
   ]
  },
  {
   "cell_type": "code",
   "execution_count": 2,
   "metadata": {},
   "outputs": [
    {
     "name": "stdout",
     "output_type": "stream",
     "text": [
      "1\n",
      "1\n",
      "2\n",
      "2\n",
      "3\n",
      "3\n",
      "4\n",
      "4\n",
      "5\n",
      "5\n",
      "6\n",
      "1\n",
      "2\n",
      "1\n",
      "3\n",
      "2\n",
      "4\n",
      "3\n",
      "5\n",
      "4\n",
      "6\n",
      "5\n",
      "7\n",
      "2\n",
      "3\n",
      "1\n",
      "4\n",
      "2\n",
      "5\n",
      "3\n",
      "6\n",
      "4\n",
      "7\n",
      "5\n",
      "8\n",
      "3\n",
      "4\n",
      "1\n",
      "5\n",
      "2\n",
      "6\n",
      "3\n",
      "7\n",
      "4\n",
      "8\n",
      "5\n",
      "9\n",
      "4\n",
      "5\n",
      "1\n",
      "6\n",
      "2\n",
      "7\n",
      "3\n",
      "8\n",
      "4\n",
      "9\n",
      "5\n",
      "10\n",
      "5\n",
      "done looping\n"
     ]
    }
   ],
   "source": [
    "for i in [1,2,3,4,5]:\n",
    "    print (i)\n",
    "    for j in [1,2,3,4,5]:\n",
    "        print (j)\n",
    "        print (i + j)\n",
    "    print(i)\n",
    "print (\"done looping\")"
   ]
  },
  {
   "cell_type": "code",
   "execution_count": 1,
   "metadata": {},
   "outputs": [],
   "source": [
    "#importing libraries\n",
    "import re\n",
    "my_regex = re.compile(\"[0-9]+\", re.I)\n",
    "#re is the module containing functions and constants for working with regular expression\n",
    "#can import as standard conventions too\n",
    "import matplotlib.pyplot as plt\n",
    "#importing specific values from a module\n",
    "from collections import defaultdict, Counter\n",
    "lookup = defaultdict(int)\n",
    "my_counter = Counter()"
   ]
  },
  {
   "cell_type": "code",
   "execution_count": 3,
   "metadata": {},
   "outputs": [],
   "source": [
    "#start with this\n",
    "from __future__ import division"
   ]
  },
  {
   "cell_type": "code",
   "execution_count": 5,
   "metadata": {},
   "outputs": [
    {
     "name": "stdout",
     "output_type": "stream",
     "text": [
      "3\n",
      "6\n"
     ]
    }
   ],
   "source": [
    "#Fundamental Data Structures of Python = List\n",
    "integer_list = [1,2,3]\n",
    "heterogeneous_list = [\"string\", 0.1, True]\n",
    "list_of_lists = [ integer_list, heterogeneous_list, []]\n",
    "\n",
    "list_length = len(integer_list)\n",
    "print(list_length) # length is 3\n",
    "list_sum = sum(integer_list)\n",
    "print (list_sum) #sum is 3 + 2 + 1 = 6"
   ]
  },
  {
   "cell_type": "code",
   "execution_count": 24,
   "metadata": {},
   "outputs": [
    {
     "name": "stdout",
     "output_type": "stream",
     "text": [
      "range(0, 10)\n",
      "0\n",
      "1\n",
      "9\n",
      "8\n",
      "9\n"
     ]
    },
    {
     "data": {
      "text/plain": [
       "False"
      ]
     },
     "execution_count": 24,
     "metadata": {},
     "output_type": "execute_result"
    }
   ],
   "source": [
    "x = range(10)\n",
    "print(x)\n",
    "zero = x[0]\n",
    "print(zero)\n",
    "one = x[1]\n",
    "print(one)\n",
    "nine = x[-1]\n",
    "print(nine)\n",
    "eight = x[-2]\n",
    "print(eight)\n",
    "print(x[-1])\n",
    "#Checking for list membership\n",
    "1 in [1,2,3]\n",
    "0 in [1,2,3]"
   ]
  },
  {
   "cell_type": "code",
   "execution_count": 33,
   "metadata": {},
   "outputs": [
    {
     "name": "stdout",
     "output_type": "stream",
     "text": [
      "range(0, 3)\n",
      "range(3, 10)\n",
      "range(1, 5)\n",
      "range(7, 10)\n",
      "range(1, 9)\n",
      "range(0, 10)\n"
     ]
    }
   ],
   "source": [
    "#Square brackets to \"slice\" lists\n",
    "first_three = x[:3]\n",
    "print(first_three)\n",
    "three_to_end = x[3:]\n",
    "print(three_to_end)\n",
    "one_to_four = x[1:5]\n",
    "print(one_to_four)\n",
    "last_three = x[-3:]\n",
    "print(last_three)\n",
    "without_first_and_last = x[1:-1]\n",
    "print(without_first_and_last)\n",
    "copy_of_x = x[:]\n",
    "print(copy_of_x)"
   ]
  },
  {
   "cell_type": "code",
   "execution_count": 37,
   "metadata": {},
   "outputs": [
    {
     "name": "stdout",
     "output_type": "stream",
     "text": [
      "[1, 2, 3, 4, 5, 6]\n",
      "This prints y [1, 2, 3, 4, 5, 6]\n"
     ]
    }
   ],
   "source": [
    "#Concatenating Lists together\n",
    "x = [1,2,3]\n",
    "x.extend([4,5,6])\n",
    "print(x)\n",
    "#Modifying X for list addition\n",
    "x = [1,2,3]\n",
    "y = x + [4,5,6]\n",
    "print(\"This prints y\", y)"
   ]
  },
  {
   "cell_type": "code",
   "execution_count": 42,
   "metadata": {},
   "outputs": [
    {
     "name": "stdout",
     "output_type": "stream",
     "text": [
      "[1, 2, 3, 0]\n",
      "0\n",
      "4\n"
     ]
    }
   ],
   "source": [
    "x = [1,2,3]\n",
    "x.append(0)\n",
    "print(x)\n",
    "y = x[-1]\n",
    "print(y)\n",
    "z = len(x)\n",
    "print(z)\n",
    "#Convienent to unpack lists if you know how many elements they contain.\n",
    "x, y = [1,2]\n",
    "#Use an underscore for values that you're going to throw away\n",
    "_, y = [1,2]\n",
    "#Don't care about the first element and y == 2"
   ]
  },
  {
   "cell_type": "code",
   "execution_count": 45,
   "metadata": {},
   "outputs": [
    {
     "name": "stdout",
     "output_type": "stream",
     "text": [
      "[1, 3]\n",
      "cannot modify a tuple\n"
     ]
    }
   ],
   "source": [
    "#Tuples\n",
    "#Immutable cousin of lists\n",
    "my_list = [1,2]\n",
    "my_tuple = (1,2) #parenthesis here, immutable\n",
    "other_tuple = 3,4\n",
    "my_list[1] = 3\n",
    "print(my_list)\n",
    "try: \n",
    "    my_tuple[1] = 3\n",
    "except TypeError:\n",
    "    print(\"cannot modify a tuple\")\n"
   ]
  },
  {
   "cell_type": "code",
   "execution_count": 47,
   "metadata": {},
   "outputs": [
    {
     "name": "stdout",
     "output_type": "stream",
     "text": [
      "(5, 6)\n",
      "15 50\n"
     ]
    }
   ],
   "source": [
    "#Tuples are a convienent way to return multiple values from functions.\n",
    "def sum_and_product(x,y):\n",
    "    return (x + y), (x * y)\n",
    "\n",
    "sp = sum_and_product(2, 3)\n",
    "s, p = sum_and_product(5, 10)\n",
    "print(sp)\n",
    "print(s, p)"
   ]
  },
  {
   "cell_type": "code",
   "execution_count": 48,
   "metadata": {},
   "outputs": [
    {
     "name": "stdout",
     "output_type": "stream",
     "text": [
      "2 1\n"
     ]
    }
   ],
   "source": [
    "#Tuples (and lists) can also be used for multiple assignment:\n",
    "x, y = 1, 2\n",
    "x, y = y, x #Pythonic way to swap variables\n",
    "print(x, y)"
   ]
  },
  {
   "cell_type": "code",
   "execution_count": 53,
   "metadata": {},
   "outputs": [
    {
     "name": "stdout",
     "output_type": "stream",
     "text": [
      "80\n",
      "No grade for Kate!\n"
     ]
    }
   ],
   "source": [
    "#Dictionaries\n",
    "#Fundamental Data Structure, associates values with keys, and allows you to quickly retrieve the value corresponding to a given key.\n",
    "empty_dict = {} #Pythonic\n",
    "empty_dict2 = dict() #Less Pythonic\n",
    "grades = {\"Joel\": 80, \"Tim\": 95}\n",
    "#Look up values for keys using square brackets\n",
    "joels_grade = grades[\"Joel\"]\n",
    "print(joels_grade)\n",
    "#Errors out if you give it a key that's not in the dict\n",
    "try:\n",
    "    kates_grade = grades[\"Kate\"]\n",
    "except KeyError:\n",
    "        print(\"No grade for Kate!\")"
   ]
  },
  {
   "cell_type": "code",
   "execution_count": 59,
   "metadata": {},
   "outputs": [
    {
     "name": "stdout",
     "output_type": "stream",
     "text": [
      "True\n",
      "False\n"
     ]
    }
   ],
   "source": [
    "#Checking for existence of grades of keys using in\n",
    "joel_has_grade = \"Joel\" in grades\n",
    "print(joel_has_grade)\n",
    "kate_has_grade = \"Kate\" in grades\n",
    "print(kate_has_grade)"
   ]
  },
  {
   "cell_type": "code",
   "execution_count": 64,
   "metadata": {},
   "outputs": [
    {
     "name": "stdout",
     "output_type": "stream",
     "text": [
      "80\n",
      "0\n",
      "None\n"
     ]
    }
   ],
   "source": [
    "#Dicts have a get method that returns a default value (instead of exception) when you look up a key not in dict\n",
    "joels_grade = grades.get(\"Joel\", 0) #First part is .get command, Second part is default value if not in \n",
    "print(joels_grade)\n",
    "kates_grade = grades.get(\"Kate\", 0)\n",
    "print(kates_grade)\n",
    "no_ones_grade = grades.get(\"No One\") #default default is None\n",
    "print(no_ones_grade)"
   ]
  },
  {
   "cell_type": "code",
   "execution_count": 68,
   "metadata": {},
   "outputs": [
    {
     "name": "stdout",
     "output_type": "stream",
     "text": [
      "3\n",
      "100\n",
      "99\n"
     ]
    }
   ],
   "source": [
    "#Key-Value pairs using same square brackets\n",
    "grades[\"Tim\"] = 99 #replaced old value\n",
    "grades[\"Kate\"] = 100 #adds a 3rd entry\n",
    "num_students = len(grades)\n",
    "print(num_students)\n",
    "print(grades[\"Kate\"])\n",
    "print(grades[\"Tim\"])"
   ]
  },
  {
   "cell_type": "code",
   "execution_count": 69,
   "metadata": {},
   "outputs": [
    {
     "name": "stdout",
     "output_type": "stream",
     "text": [
      "{'user': 'joelgrus', 'text': 'Data Science is Awesome', 'retweet_count': 100, 'hashtags': ['#data', '#science', '#datascience', '#awesome', '#yolo']}\n"
     ]
    }
   ],
   "source": [
    "#Frequently use dicts as a simple way to represent structured Data\n",
    "tweet = {\n",
    "    \"user\" : \"joelgrus\",\n",
    "    \"text\" : \"Data Science is Awesome\",\n",
    "    \"retweet_count\" : 100,\n",
    "    \"hashtags\" : [\"#data\", \"#science\", \"#datascience\", \"#awesome\", \"#yolo\"]\n",
    "}\n",
    "#structured data here\n",
    "print(tweet)\n"
   ]
  },
  {
   "cell_type": "code",
   "execution_count": 77,
   "metadata": {},
   "outputs": [
    {
     "name": "stdout",
     "output_type": "stream",
     "text": [
      "dict_keys(['user', 'text', 'retweet_count', 'hashtags'])\n",
      "dict_values(['joelgrus', 'Data Science is Awesome', 100, ['#data', '#science', '#datascience', '#awesome', '#yolo']])\n",
      "dict_items([('user', 'joelgrus'), ('text', 'Data Science is Awesome'), ('retweet_count', 100), ('hashtags', ['#data', '#science', '#datascience', '#awesome', '#yolo'])])\n"
     ]
    },
    {
     "data": {
      "text/plain": [
       "True"
      ]
     },
     "execution_count": 77,
     "metadata": {},
     "output_type": "execute_result"
    }
   ],
   "source": [
    "#We can look at all keys\n",
    "tweet_keys = tweet.keys()\n",
    "print(tweet_keys)\n",
    "tweet_values = tweet.values()\n",
    "print(tweet_values)\n",
    "tweet_items = tweet.items() #list of (key, values) tuples\n",
    "print(tweet_items)\n",
    "\n",
    "#\"user\" in tweet_keys # True, but uses a slow list in \n",
    "#\"user\" in tweet # More Pythonic, uses faster dict in\n",
    "\"joelgrus\" in tweet_values \n",
    "#Dictionary keys must be immutable, in partiular you cannot use lists as keys.\n",
    "#If you need a multipart key(?), you should use a tuple or figure out a way to turn the key into a str"
   ]
  },
  {
   "cell_type": "code",
   "execution_count": 78,
   "metadata": {},
   "outputs": [
    {
     "ename": "NameError",
     "evalue": "name 'document' is not defined",
     "output_type": "error",
     "traceback": [
      "\u001b[0;31m---------------------------------------------------------------------------\u001b[0m",
      "\u001b[0;31mNameError\u001b[0m                                 Traceback (most recent call last)",
      "\u001b[0;32m<ipython-input-78-a38fd772cc21>\u001b[0m in \u001b[0;36m<module>\u001b[0;34m()\u001b[0m\n\u001b[1;32m      1\u001b[0m \u001b[0;31m#Word count using a dict method\u001b[0m\u001b[0;34m\u001b[0m\u001b[0;34m\u001b[0m\u001b[0m\n\u001b[1;32m      2\u001b[0m \u001b[0mword_counts\u001b[0m \u001b[0;34m=\u001b[0m \u001b[0;34m{\u001b[0m\u001b[0;34m}\u001b[0m\u001b[0;34m\u001b[0m\u001b[0m\n\u001b[0;32m----> 3\u001b[0;31m \u001b[0;32mfor\u001b[0m \u001b[0mword\u001b[0m \u001b[0;32min\u001b[0m \u001b[0mdocument\u001b[0m\u001b[0;34m:\u001b[0m\u001b[0;34m\u001b[0m\u001b[0m\n\u001b[0m\u001b[1;32m      4\u001b[0m     \u001b[0;32mif\u001b[0m \u001b[0mword\u001b[0m \u001b[0;32min\u001b[0m \u001b[0mword_counts\u001b[0m\u001b[0;34m:\u001b[0m\u001b[0;34m\u001b[0m\u001b[0m\n\u001b[1;32m      5\u001b[0m         \u001b[0mword_counts\u001b[0m\u001b[0;34m[\u001b[0m\u001b[0mword\u001b[0m\u001b[0;34m]\u001b[0m \u001b[0;34m+=\u001b[0m \u001b[0;36m1\u001b[0m \u001b[0;31m#Adds one if it's in the dictionary\u001b[0m\u001b[0;34m\u001b[0m\u001b[0m\n",
      "\u001b[0;31mNameError\u001b[0m: name 'document' is not defined"
     ]
    }
   ],
   "source": [
    "#Word count using a dict method\n",
    "word_counts = {}\n",
    "for word in document: \n",
    "    if word in word_counts:\n",
    "        word_counts[word] += 1 #Adds one if it's in the dictionary\n",
    "    else:\n",
    "        word_counts[word] = 1 # Adds to dictionary\n"
   ]
  },
  {
   "cell_type": "code",
   "execution_count": 79,
   "metadata": {},
   "outputs": [
    {
     "ename": "NameError",
     "evalue": "name 'document' is not defined",
     "output_type": "error",
     "traceback": [
      "\u001b[0;31m---------------------------------------------------------------------------\u001b[0m",
      "\u001b[0;31mNameError\u001b[0m                                 Traceback (most recent call last)",
      "\u001b[0;32m<ipython-input-79-dd5783e38567>\u001b[0m in \u001b[0;36m<module>\u001b[0;34m()\u001b[0m\n\u001b[1;32m      1\u001b[0m \u001b[0;31m#Forgiveness is better than permission method\u001b[0m\u001b[0;34m\u001b[0m\u001b[0;34m\u001b[0m\u001b[0m\n\u001b[1;32m      2\u001b[0m \u001b[0mword_counts\u001b[0m \u001b[0;34m=\u001b[0m \u001b[0;34m{\u001b[0m\u001b[0;34m}\u001b[0m\u001b[0;34m\u001b[0m\u001b[0m\n\u001b[0;32m----> 3\u001b[0;31m \u001b[0;32mfor\u001b[0m \u001b[0mword\u001b[0m \u001b[0;32min\u001b[0m \u001b[0mdocument\u001b[0m\u001b[0;34m:\u001b[0m\u001b[0;34m\u001b[0m\u001b[0m\n\u001b[0m\u001b[1;32m      4\u001b[0m     \u001b[0;32mtry\u001b[0m\u001b[0;34m:\u001b[0m\u001b[0;34m\u001b[0m\u001b[0m\n\u001b[1;32m      5\u001b[0m         \u001b[0mword_counts\u001b[0m\u001b[0;34m[\u001b[0m\u001b[0mword\u001b[0m\u001b[0;34m]\u001b[0m \u001b[0;34m+=\u001b[0m \u001b[0;36m1\u001b[0m\u001b[0;34m\u001b[0m\u001b[0m\n",
      "\u001b[0;31mNameError\u001b[0m: name 'document' is not defined"
     ]
    }
   ],
   "source": [
    "#Forgiveness is better than permission method\n",
    "word_counts = {}\n",
    "for word in document:\n",
    "    try: \n",
    "        word_counts[word] += 1\n",
    "    except KeyError:\n",
    "        word_counts[word] = 1"
   ]
  },
  {
   "cell_type": "code",
   "execution_count": 80,
   "metadata": {},
   "outputs": [
    {
     "ename": "NameError",
     "evalue": "name 'document' is not defined",
     "output_type": "error",
     "traceback": [
      "\u001b[0;31m---------------------------------------------------------------------------\u001b[0m",
      "\u001b[0;31mNameError\u001b[0m                                 Traceback (most recent call last)",
      "\u001b[0;32m<ipython-input-80-955c6d6e7815>\u001b[0m in \u001b[0;36m<module>\u001b[0;34m()\u001b[0m\n\u001b[1;32m      1\u001b[0m \u001b[0;31m#3rd approach using get\u001b[0m\u001b[0;34m\u001b[0m\u001b[0;34m\u001b[0m\u001b[0m\n\u001b[1;32m      2\u001b[0m \u001b[0mword_counts\u001b[0m \u001b[0;34m=\u001b[0m \u001b[0;34m{\u001b[0m\u001b[0;34m}\u001b[0m\u001b[0;34m\u001b[0m\u001b[0m\n\u001b[0;32m----> 3\u001b[0;31m \u001b[0;32mfor\u001b[0m \u001b[0mword\u001b[0m \u001b[0;32min\u001b[0m \u001b[0mdocument\u001b[0m\u001b[0;34m:\u001b[0m\u001b[0;34m\u001b[0m\u001b[0m\n\u001b[0m\u001b[1;32m      4\u001b[0m     \u001b[0mprevious_count\u001b[0m \u001b[0;34m=\u001b[0m \u001b[0mword_counts\u001b[0m\u001b[0;34m.\u001b[0m\u001b[0mget\u001b[0m\u001b[0;34m(\u001b[0m\u001b[0mword\u001b[0m\u001b[0;34m,\u001b[0m \u001b[0;36m0\u001b[0m\u001b[0;34m)\u001b[0m\u001b[0;34m\u001b[0m\u001b[0m\n\u001b[1;32m      5\u001b[0m     \u001b[0mword_counts\u001b[0m\u001b[0;34m[\u001b[0m\u001b[0mword\u001b[0m\u001b[0;34m]\u001b[0m \u001b[0;34m=\u001b[0m \u001b[0mprevious_count\u001b[0m \u001b[0;34m+\u001b[0m \u001b[0;36m1\u001b[0m\u001b[0;34m\u001b[0m\u001b[0m\n",
      "\u001b[0;31mNameError\u001b[0m: name 'document' is not defined"
     ]
    }
   ],
   "source": [
    "#3rd approach using get\n",
    "word_counts = {}\n",
    "for word in document:\n",
    "    previous_count = word_counts.get(word, 0)\n",
    "    word_counts[word] = previous_count + 1"
   ]
  },
  {
   "cell_type": "code",
   "execution_count": 83,
   "metadata": {},
   "outputs": [
    {
     "ename": "NameError",
     "evalue": "name 'document' is not defined",
     "output_type": "error",
     "traceback": [
      "\u001b[0;31m---------------------------------------------------------------------------\u001b[0m",
      "\u001b[0;31mNameError\u001b[0m                                 Traceback (most recent call last)",
      "\u001b[0;32m<ipython-input-83-ac462b19a1f1>\u001b[0m in \u001b[0;36m<module>\u001b[0;34m()\u001b[0m\n\u001b[1;32m      5\u001b[0m \u001b[0;34m\u001b[0m\u001b[0m\n\u001b[1;32m      6\u001b[0m \u001b[0mword_counts\u001b[0m \u001b[0;34m=\u001b[0m \u001b[0mdefaultdict\u001b[0m\u001b[0;34m(\u001b[0m\u001b[0mint\u001b[0m\u001b[0;34m)\u001b[0m \u001b[0;31m#int() produces 0\u001b[0m\u001b[0;34m\u001b[0m\u001b[0m\n\u001b[0;32m----> 7\u001b[0;31m \u001b[0;32mfor\u001b[0m \u001b[0mword\u001b[0m \u001b[0;32min\u001b[0m \u001b[0mdocument\u001b[0m\u001b[0;34m:\u001b[0m\u001b[0;34m\u001b[0m\u001b[0m\n\u001b[0m\u001b[1;32m      8\u001b[0m     \u001b[0mword_counts\u001b[0m\u001b[0;34m[\u001b[0m\u001b[0mword\u001b[0m\u001b[0;34m]\u001b[0m  \u001b[0;34m+=\u001b[0m \u001b[0;36m1\u001b[0m\u001b[0;34m\u001b[0m\u001b[0m\n",
      "\u001b[0;31mNameError\u001b[0m: name 'document' is not defined"
     ]
    }
   ],
   "source": [
    "#Defaultdict \n",
    "#If you try to look up a key it doesnt contain, it first adds a value for it using a 0-argument function you created\n",
    "#when you created it, Must import from collections\n",
    "from collections import defaultdict\n",
    "\n",
    "word_counts = defaultdict(int) #int() produces 0\n",
    "for word in document:\n",
    "    word_counts[word]  += 1\n"
   ]
  },
  {
   "cell_type": "code",
   "execution_count": 89,
   "metadata": {},
   "outputs": [
    {
     "name": "stdout",
     "output_type": "stream",
     "text": [
      "defaultdict(<class 'list'>, {2: [1]})\n",
      "defaultdict(<class 'dict'>, {'Joel': {'City': 'Seattle'}})\n",
      "defaultdict(<function <lambda> at 0x7f01781be950>, {2: [0, 1]})\n"
     ]
    }
   ],
   "source": [
    "#Can be useful with list or dict or even your own functions\n",
    "\n",
    "dd_list = defaultdict(list) #list() produces an empty list\n",
    "dd_list[2].append(1) #now dd_list contains {2: [1]}\n",
    "print(dd_list)\n",
    "\n",
    "dd_dict = defaultdict(dict) #dict() produces an empty dict\n",
    "dd_dict[\"Joel\"][\"City\"] = \"Seattle\"\n",
    "print(dd_dict)\n",
    "\n",
    "dd_pair = defaultdict(lambda: [0,0])\n",
    "dd_pair[2][1] = 1\n",
    "print(dd_pair)\n",
    "\n",
    "#these are useful when we're using dicts to collect results by some key and don't want to have to check every time to see if the \n",
    "#key exists"
   ]
  },
  {
   "cell_type": "code",
   "execution_count": 95,
   "metadata": {},
   "outputs": [
    {
     "name": "stdout",
     "output_type": "stream",
     "text": [
      "Counter({0: 2, 1: 1, 2: 1})\n",
      "  26\n",
      "e 12\n",
      "t 11\n",
      "h 8\n",
      "i 8\n",
      "s 8\n",
      "a 8\n",
      "n 6\n",
      "o 5\n",
      "l 4\n"
     ]
    }
   ],
   "source": [
    "#Counter\n",
    "#Turns sequence of values into a defaultdict(int) -like object mapping keys to counts\n",
    "#Useful for histograms\n",
    "from collections import Counter\n",
    "c = Counter([0,1,2,0])\n",
    "print(c)\n",
    "document = \"This is an example of a document with plenty of words and a repetitive words the the the the the fuck shit, balls is an is an.\"\n",
    "#Useful way to solve word_counts problem\n",
    "word_counts = Counter(document)\n",
    "#Counter instance has a most_common method that is frequently useful\n",
    "\n",
    "#print the 10 most common words and their counts\n",
    "for word, count in word_counts.most_common(10):\n",
    "    print (word, count)"
   ]
  },
  {
   "cell_type": "code",
   "execution_count": 101,
   "metadata": {},
   "outputs": [
    {
     "name": "stdout",
     "output_type": "stream",
     "text": [
      "{1, 2}\n",
      "2\n",
      "True\n",
      "False\n",
      "\n",
      "\n",
      "{1, 2, 3}\n",
      "3\n",
      "[1, 2, 3]\n"
     ]
    }
   ],
   "source": [
    "#Sets\n",
    "#Represents a collection of distinct elements\n",
    "s = set()\n",
    "s.add(1)\n",
    "s.add(2)\n",
    "s.add(2)\n",
    "x = len(s)\n",
    "y = 2 in s\n",
    "z = 3 in s\n",
    "print(s)\n",
    "print(x)\n",
    "print(y)\n",
    "print(z)\n",
    "#We use sets for 2 main reasons\n",
    "#First - in is a very fast operation in sets\n",
    "#Large collection of items that we want to use for a membership test, a set is more appropriate than a list\n",
    "#Second - to find distinct items in a collection\n",
    "item_list = [1,2,3,1,2,3]\n",
    "num_items = len(item_list)\n",
    "item_set = set(item_list)\n",
    "print(\"\\n\")\n",
    "print(item_set)\n",
    "num_distinct_items = len(item_set)\n",
    "print(num_distinct_items)\n",
    "distinct_item_list = list(item_set)\n",
    "print(distinct_item_list)"
   ]
  },
  {
   "cell_type": "code",
   "execution_count": 110,
   "metadata": {},
   "outputs": [
    {
     "name": "stdout",
     "output_type": "stream",
     "text": [
      "True\n",
      "True\n"
     ]
    },
    {
     "data": {
      "text/plain": [
       "False"
      ]
     },
     "execution_count": 110,
     "metadata": {},
     "output_type": "execute_result"
    }
   ],
   "source": [
    "#Control Flow\n",
    "#if then else statements\n",
    "#elif as well\n",
    "#Truthiness\n",
    "x = None\n",
    "print (x == None)\n",
    "print (x is None) # More Pythonic\n",
    "#Truthy and Falsy\n",
    "all([True, 1, {3}])\n",
    "all([True, 1, {}]) #Falsy {}\n",
    "any([True, 1, {}]) # Truthy, True is Truthy\n",
    "all([]) #True, no falsy elements in the list\n",
    "any([]) # False, no truthy elements in the list"
   ]
  },
  {
   "cell_type": "code",
   "execution_count": 127,
   "metadata": {},
   "outputs": [
    {
     "name": "stdout",
     "output_type": "stream",
     "text": [
      "[1, 2, 3, 4]\n",
      "[4, 1, 2, 3]\n",
      "[1, 2, 3, 4]\n",
      "[-4, 3, -2, 1]\n",
      "[('y', 1), ('x', 1), ('w', 3), ('v', 1), ('u', 2), ('t', 11), ('s', 8), ('r', 3), ('p', 3), ('o', 5), ('n', 6), ('m', 2), ('l', 4), ('k', 1), ('i', 8), ('h', 8), ('f', 3), ('e', 12), ('d', 4), ('c', 2), ('b', 1), ('a', 8), ('T', 1), ('.', 1), (',', 1), (' ', 26)]\n"
     ]
    }
   ],
   "source": [
    "#Sorting\n",
    "x = [4,1,2,3]\n",
    "y = sorted(x)\n",
    "print(y)\n",
    "print(x)\n",
    "x.sort()\n",
    "print(x)\n",
    "#Now we can go largest to smallest (opposite of default) using this using reverse = True parameter\n",
    "# sort the list by abs. value from largest to smallest\n",
    "\n",
    "x = sorted([-4,1,-2,3], key=abs, reverse=True) # is [-4,3,-2,1] from absolute values\n",
    "print(x)\n",
    "#Sort the words and counts from largest to smallest\n",
    "wc = sorted(word_counts.items(),\n",
    "            reverse = True)\n",
    "print(wc) #lambda works differently in python 3"
   ]
  },
  {
   "cell_type": "code",
   "execution_count": 141,
   "metadata": {},
   "outputs": [
    {
     "name": "stdout",
     "output_type": "stream",
     "text": [
      "[0, 2, 4]\n",
      "[0, 1, 4, 9, 16]\n",
      "[0, 4, 16]\n",
      "{0: 0, 1: 1, 2: 4, 3: 9, 4: 16}\n",
      "{1}\n",
      "[0, 0, 0]\n",
      "[(0, 0), (0, 1), (0, 2), (0, 3), (0, 4), (0, 5), (0, 6), (0, 7), (0, 8), (0, 9), (1, 0), (1, 1), (1, 2), (1, 3), (1, 4), (1, 5), (1, 6), (1, 7), (1, 8), (1, 9), (2, 0), (2, 1), (2, 2), (2, 3), (2, 4), (2, 5), (2, 6), (2, 7), (2, 8), (2, 9), (3, 0), (3, 1), (3, 2), (3, 3), (3, 4), (3, 5), (3, 6), (3, 7), (3, 8), (3, 9), (4, 0), (4, 1), (4, 2), (4, 3), (4, 4), (4, 5), (4, 6), (4, 7), (4, 8), (4, 9), (5, 0), (5, 1), (5, 2), (5, 3), (5, 4), (5, 5), (5, 6), (5, 7), (5, 8), (5, 9), (6, 0), (6, 1), (6, 2), (6, 3), (6, 4), (6, 5), (6, 6), (6, 7), (6, 8), (6, 9), (7, 0), (7, 1), (7, 2), (7, 3), (7, 4), (7, 5), (7, 6), (7, 7), (7, 8), (7, 9), (8, 0), (8, 1), (8, 2), (8, 3), (8, 4), (8, 5), (8, 6), (8, 7), (8, 8), (8, 9), (9, 0), (9, 1), (9, 2), (9, 3), (9, 4), (9, 5), (9, 6), (9, 7), (9, 8), (9, 9)]\n",
      "\n",
      "\n",
      "[(0, 1), (0, 2), (0, 3), (0, 4), (0, 5), (0, 6), (0, 7), (0, 8), (0, 9), (1, 2), (1, 3), (1, 4), (1, 5), (1, 6), (1, 7), (1, 8), (1, 9), (2, 3), (2, 4), (2, 5), (2, 6), (2, 7), (2, 8), (2, 9), (3, 4), (3, 5), (3, 6), (3, 7), (3, 8), (3, 9), (4, 5), (4, 6), (4, 7), (4, 8), (4, 9), (5, 6), (5, 7), (5, 8), (5, 9), (6, 7), (6, 8), (6, 9), (7, 8), (7, 9), (8, 9)]\n"
     ]
    }
   ],
   "source": [
    "#List Comprehensions\n",
    "#Transform a list to another list, by choosing only certain elements, or by transforming elements, or both\n",
    "#Pythonic way is list comprehensions\n",
    "\n",
    "even_numbers = [x for x in range(5) if x % 2 == 0]\n",
    "print(even_numbers)\n",
    "squares = [x * x for x in range(5)] #function, for range\n",
    "print(squares)\n",
    "even_squares = [x * x for x in even_numbers] #function for range(function)\n",
    "print(even_squares)\n",
    "\n",
    "#Turning lists into dicts or sets\n",
    "square_dict = {x : x * x for x in range(5) } #key : value\n",
    "print(square_dict)\n",
    "square_set = { x * x for x in [1,-1]}\n",
    "print(square_set)\n",
    "\n",
    "#If we don't need the value from a list, it's conventional to use an underscore as the variable.\n",
    "zeroes = [0 for _ in even_numbers] # has the same length as even_numbers\n",
    "print(zeroes) #value range in function\n",
    "\n",
    "# A list comprehension can include multiple fors\n",
    "pairs = [(x, y) #coordinates / sets\n",
    "        for x in range(10)  # For every number in x range\n",
    "        for y in range(10)] # match up with y in range\n",
    "print(pairs) # Prints out 0, y(range10), 1, (range10) etc. 100 pairs\n",
    "print(\"\\n\")\n",
    "increasing_pairs = [(x, y)\n",
    "                   for x in range(10)\n",
    "                   for y in range(x + 1, 10)] #x + 1, to range so it's a lot less than pairs from less options later on\n",
    "print(increasing_pairs)"
   ]
  },
  {
   "cell_type": "code",
   "execution_count": 155,
   "metadata": {},
   "outputs": [
    {
     "ename": "TypeError",
     "evalue": "'generator' object is not callable",
     "output_type": "error",
     "traceback": [
      "\u001b[0;31m---------------------------------------------------------------------------\u001b[0m",
      "\u001b[0;31mTypeError\u001b[0m                                 Traceback (most recent call last)",
      "\u001b[0;32m<ipython-input-155-341eb7fd3aa3>\u001b[0m in \u001b[0;36m<module>\u001b[0;34m()\u001b[0m\n\u001b[1;32m     22\u001b[0m \u001b[0;31m# Using list comprehensions wrapped in parenthesis\u001b[0m\u001b[0;34m\u001b[0m\u001b[0;34m\u001b[0m\u001b[0m\n\u001b[1;32m     23\u001b[0m \u001b[0mlazy_evens_below_20\u001b[0m \u001b[0;34m=\u001b[0m \u001b[0;34m(\u001b[0m\u001b[0mi\u001b[0m \u001b[0;32mfor\u001b[0m \u001b[0mi\u001b[0m \u001b[0;32min\u001b[0m \u001b[0mlazy_range\u001b[0m\u001b[0;34m(\u001b[0m\u001b[0;36m20\u001b[0m\u001b[0;34m)\u001b[0m \u001b[0;32mif\u001b[0m \u001b[0mi\u001b[0m \u001b[0;34m%\u001b[0m \u001b[0;36m2\u001b[0m \u001b[0;34m==\u001b[0m \u001b[0;36m0\u001b[0m\u001b[0;34m)\u001b[0m\u001b[0;34m\u001b[0m\u001b[0m\n\u001b[0;32m---> 24\u001b[0;31m \u001b[0mprint\u001b[0m\u001b[0;34m(\u001b[0m\u001b[0mlazy_evens_below_20\u001b[0m\u001b[0;34m(\u001b[0m\u001b[0;34m)\u001b[0m\u001b[0;34m)\u001b[0m\u001b[0;34m\u001b[0m\u001b[0m\n\u001b[0m",
      "\u001b[0;31mTypeError\u001b[0m: 'generator' object is not callable"
     ]
    }
   ],
   "source": [
    "#Generators and Iterators\n",
    "#Generator is something you can iterate over, values produced only as needed instead of creating huge lists and computing needs\n",
    "#Create generators with functions and yield operator\n",
    "\n",
    "def lazy_range(n):\n",
    "    \"\"\"a lazy version of range\"\"\"\n",
    "    i = 0\n",
    "    while i < n:\n",
    "        yield i\n",
    "        i += 1\n",
    "# This will consume the yielded values one at a time until none are left\n",
    "#for i in lazy_range(10):\n",
    "    #do_something_with(i) \n",
    "    #Python lazy range function is called xrange\n",
    "\n",
    "def natural_numbers():\n",
    "    \"\"\"returns 1,2,3 ...\"\"\"\n",
    "    n = 1\n",
    "    while True:\n",
    "        yield n\n",
    "        n += 1\n",
    "# Using list comprehensions wrapped in parenthesis\n",
    "lazy_evens_below_20 = (i for i in lazy_range(20) if i % 2 == 0)\n",
    "print(lazy_evens_below_20)"
   ]
  },
  {
   "cell_type": "code",
   "execution_count": 179,
   "metadata": {},
   "outputs": [
    {
     "name": "stdout",
     "output_type": "stream",
     "text": [
      "[0.46997396696354576, 0.6529777317087816, 0.32468828442743336, 0.501917020651839]\n",
      "This is the random number seed 10:  0.5714025946899135\n",
      "[0, 1, 2, 3, 4, 5, 6, 7, 8, 9]\n",
      "[4, 5, 8, 1, 2, 6, 7, 3, 0, 9]\n",
      "Bob\n",
      "[0, 1, 2, 3, 4, 5, 6, 7, 8, 9, 10, 11, 12, 13, 14, 15, 16, 17, 18, 19, 20, 21, 22, 23, 24, 25, 26, 27, 28, 29, 30, 31, 32, 33, 34, 35, 36, 37, 38, 39, 40, 41, 42, 43, 44, 45, 46, 47, 48, 49, 50, 51, 52, 53, 54, 55, 56, 57, 58, 59]\n",
      "[4, 15, 47, 23, 2, 26]\n",
      "[2, 9, 5, 6]\n"
     ]
    }
   ],
   "source": [
    "#Randomness\n",
    "#import with random mmodule\n",
    "import random\n",
    "\n",
    "four_uniform_randoms = [random.random() for _ in range(4)] \n",
    "print(four_uniform_randoms)\n",
    "# Produces 4 randoms numbers between 0 and 1 uniformly \n",
    "\n",
    "# Random seed\n",
    "random.seed(10) # Set the seed to 10\n",
    "print (\"This is the random number seed 10: \",random.random())\n",
    "\n",
    "# Random range\n",
    "random.randrange(10) #Prints 6 with seed 10\n",
    "random.randrange(3, 6) # Prints 4 with same seed\n",
    "\n",
    "# Random shuffle for randomly reordering the elements of a list\n",
    "\n",
    "up_to_ten = [i for i in range(10)]\n",
    "print(up_to_ten)\n",
    "random.shuffle(up_to_ten)\n",
    "print(up_to_ten)\n",
    "\n",
    "# If you need to randomly pick one element froma  list you can use random choice\n",
    "my_best_friend = random.choice([\"Alice\", \"Bob\", \"Charlie\"]) # See what random it picks\n",
    "print(my_best_friend) # Prints Bob\n",
    "\n",
    "# Randomly choose a sample of elements without replacement use random sample\n",
    "lottery_numbers = [i for i in range(60)]\n",
    "winning_numbers = random.sample(lottery_numbers, 6) # Start with the list elements and pick 6 different ones\n",
    "print(lottery_numbers)\n",
    "print(winning_numbers)\n",
    "\n",
    "# Choose a sample of elements WITH replacement (allowing duplicates) use random choice\n",
    "four_with_replacement = [random.choice(range(10))\n",
    "                        for _ in range(4)]\n",
    "print(four_with_replacement) #Didn't get duplicates but it can "
   ]
  },
  {
   "cell_type": "code",
   "execution_count": 181,
   "metadata": {},
   "outputs": [
    {
     "name": "stdout",
     "output_type": "stream",
     "text": [
      "True\n"
     ]
    }
   ],
   "source": [
    "# Regular Expressions\n",
    "# Way of searching Text\n",
    "# Useful but complicated\n",
    "import re\n",
    "\n",
    "print (all([                                        #All of thes are true, because\n",
    "    not re.match(\"a\", \"cat\"),                      #* 'cat' doesn't start with 'a'\n",
    "    re.search(\"a\", \"cat\"),                         #* 'cat' has an a in it\n",
    "    not re.search(\"c\", \"dog\"),                     #* 'dog' doesn't have a 'c' in it\n",
    "    3 == len(re.split(\"[ab]\", \"carbs\")),           #* split on a or b to ['c', 'r', 's']\n",
    "    \"R-D-\" == re.sub(\"[0-9]\", \"-\", \"R2D2\")         #* replace digits with dashes\n",
    "    ]))"
   ]
  },
  {
   "cell_type": "code",
   "execution_count": 183,
   "metadata": {},
   "outputs": [],
   "source": [
    "# Object-Oriented Programming\n",
    "# Define classes that encapsulate data and the other functions that operate on them\n",
    "# Makes code cleaner and simpler\n",
    "# Class needs add items, remove items, and check whether it contains a certain value\n",
    "\n",
    "# by convention, we give classes PascalCase names\n",
    "class Set:\n",
    "    \n",
    "    # these are the member functions\n",
    "    # every one take sa first parameter \"self\" (another convention)\n",
    "    # that refers to the particular Set object being used\n",
    "    \n",
    "    def __init__(self, values=None):\n",
    "        \"\"\"This is the constructor.\n",
    "        It gets called when you create a set.\n",
    "        You would use it like\n",
    "        s1 = Set()      #empty set\n",
    "        s2 = Set([1,2,2,3]) #initialize with values\"\"\"\n",
    "        \n",
    "        self.dict = {} # each instance of Set has its own dict properties\n",
    "                       # which is what we'll use to track memberships\n",
    "        if values is not None:\n",
    "            for value in values:\n",
    "                self.add(value) # Adding values to the dict\n",
    "    def __repr__(self):\n",
    "        \"\"\"this is a string representation of a Set object\n",
    "        if you type it at the python prompt or pass it to str()\"\"\"\n",
    "        return \"Set: \" + str(self.dict.keys())\n",
    "    \n",
    "    # we'll represent membership by being a key in self.dict with value True\n",
    "    def add(self, value):\n",
    "        self.dict[value] = True\n",
    "        \n",
    "    # value is in the Set if it's a key in the dict\n",
    "    def contains(self, value):\n",
    "        return value in self.dict\n",
    "    \n",
    "    def remove(self, value):\n",
    "        del self.dict[value]"
   ]
  },
  {
   "cell_type": "code",
   "execution_count": 185,
   "metadata": {},
   "outputs": [
    {
     "name": "stdout",
     "output_type": "stream",
     "text": [
      "True\n",
      "False\n"
     ]
    }
   ],
   "source": [
    "# Set Class Examples\n",
    "s = Set([1,2,3])\n",
    "s.add(4) #class as a variable, add sub function\n",
    "print(s.contains(4)) #contains = sub function of class with value\n",
    "s.remove(3) # remove sub function\n",
    "print(s.contains(3)) #sub function "
   ]
  },
  {
   "cell_type": "code",
   "execution_count": 11,
   "metadata": {},
   "outputs": [
    {
     "name": "stdout",
     "output_type": "stream",
     "text": [
      "8\n",
      "9\n",
      "[2, 4, 6, 8]\n",
      "[2, 4, 6, 8]\n",
      "[4, 10]\n",
      "[2, 4]\n"
     ]
    },
    {
     "ename": "NameError",
     "evalue": "name 'reduce' is not defined",
     "output_type": "error",
     "traceback": [
      "\u001b[0;31m---------------------------------------------------------------------------\u001b[0m",
      "\u001b[0;31mNameError\u001b[0m                                 Traceback (most recent call last)",
      "\u001b[0;32m<ipython-input-11-8f226a8cb55a>\u001b[0m in \u001b[0;36m<module>\u001b[0;34m()\u001b[0m\n\u001b[1;32m     45\u001b[0m \u001b[0;34m\u001b[0m\u001b[0m\n\u001b[1;32m     46\u001b[0m \u001b[0;31m# Reduce combines the first two elements of a list, then that result with the third, that result with the fourth and so on\u001b[0m\u001b[0;34m\u001b[0m\u001b[0;34m\u001b[0m\u001b[0m\n\u001b[0;32m---> 47\u001b[0;31m \u001b[0mx_product\u001b[0m \u001b[0;34m=\u001b[0m \u001b[0mreduce\u001b[0m\u001b[0;34m(\u001b[0m\u001b[0mmultiply\u001b[0m\u001b[0;34m,\u001b[0m \u001b[0mxs\u001b[0m\u001b[0;34m)\u001b[0m\u001b[0;34m\u001b[0m\u001b[0m\n\u001b[0m",
      "\u001b[0;31mNameError\u001b[0m: name 'reduce' is not defined"
     ]
    }
   ],
   "source": [
    "# Functional Tools\n",
    "# partially apply (curry) functions to create new functions\n",
    "def exp(base, power):\n",
    "    return base ** power\n",
    "def two_to_the(power):\n",
    "    return exp(2, power)\n",
    "# These can get unwieldy if we keep using functions\n",
    "\n",
    "# Different approach is function tools partial (functools.partial)\n",
    "from functools import partial\n",
    "two_to_the = partial(exp, 2) # is now a function of 1 variable\n",
    "print(two_to_the(3))\n",
    "\n",
    "# You can use partial to fill in later arguments if you specify their names\n",
    "square_of = partial(exp, power = 2)\n",
    "print(square_of(3))\n",
    "\n",
    "#Occasional use of map, reduce, filter. Provide functional alternatives to list comprehensions\n",
    "def double(x):\n",
    "    return 2 * x\n",
    "\n",
    "xs = [1, 2, 3, 4]\n",
    "twice_xs = [double(x) for x in xs]\n",
    "print(twice_xs)\n",
    "list_doubler = partial(map, double) #*function* that doubles a list\n",
    "twice_xs = list_doubler(xs)\n",
    "print(list(twice_xs))\n",
    "\n",
    "# Use map w/ multiple argument functions if you provide multiple lists\n",
    "def multiply(x, y): return x * y\n",
    "\n",
    "products = map(multiply, [1,2], [4,5]) \n",
    "print(list(products))\n",
    "\n",
    "# Filter, does the work of a list comprehension if:\n",
    "def is_even(x):\n",
    "    \"\"\"True if x is even, False if x is odd\"\"\"\n",
    "    return x % 2 == 0\n",
    "\n",
    "x_evens = [x for x in xs if is_even(x)]\n",
    "x_evens = filter(is_even, xs)                 #applies list comprehension is_even to xs list\n",
    "list_evener = partial(filter, is_even)\n",
    "x_evens = list_evener(xs)\n",
    "print(list(x_evens))\n",
    "\n",
    "# Reduce combines the first two elements of a list, then that result with the third, that result with the fourth and so on#\n",
    "# Reduce is no longer a thing in Python 3.X\n"
   ]
  },
  {
   "cell_type": "code",
   "execution_count": 12,
   "metadata": {},
   "outputs": [
    {
     "ename": "NameError",
     "evalue": "name 'documents' is not defined",
     "output_type": "error",
     "traceback": [
      "\u001b[0;31m---------------------------------------------------------------------------\u001b[0m",
      "\u001b[0;31mNameError\u001b[0m                                 Traceback (most recent call last)",
      "\u001b[0;32m<ipython-input-12-9dc3d4e20f95>\u001b[0m in \u001b[0;36m<module>\u001b[0;34m()\u001b[0m\n\u001b[1;32m      2\u001b[0m \u001b[0;31m# Iterate over a list and use both its elements and their index\u001b[0m\u001b[0;34m\u001b[0m\u001b[0;34m\u001b[0m\u001b[0m\n\u001b[1;32m      3\u001b[0m \u001b[0;31m# Produces tuples (index, element)\u001b[0m\u001b[0;34m\u001b[0m\u001b[0;34m\u001b[0m\u001b[0m\n\u001b[0;32m----> 4\u001b[0;31m \u001b[0;32mfor\u001b[0m \u001b[0mi\u001b[0m\u001b[0;34m,\u001b[0m \u001b[0mdocument\u001b[0m \u001b[0;32min\u001b[0m \u001b[0menumerate\u001b[0m\u001b[0;34m(\u001b[0m\u001b[0mdocuments\u001b[0m\u001b[0;34m)\u001b[0m\u001b[0;34m:\u001b[0m\u001b[0;34m\u001b[0m\u001b[0m\n\u001b[0m\u001b[1;32m      5\u001b[0m     \u001b[0mdo_something\u001b[0m\u001b[0;34m(\u001b[0m\u001b[0mi\u001b[0m\u001b[0;34m,\u001b[0m \u001b[0mdocument\u001b[0m\u001b[0;34m)\u001b[0m\u001b[0;34m\u001b[0m\u001b[0m\n\u001b[1;32m      6\u001b[0m \u001b[0;31m# We'll use this a lot\u001b[0m\u001b[0;34m\u001b[0m\u001b[0;34m\u001b[0m\u001b[0m\n",
      "\u001b[0;31mNameError\u001b[0m: name 'documents' is not defined"
     ]
    }
   ],
   "source": [
    "# Enumerate\n",
    "# Iterate over a list and use both its elements and their index\n",
    "# Produces tuples (index, element)\n",
    "for i, document in enumerate(documents):\n",
    "    do_something(i, document)\n",
    "# We'll use this a lot\n",
    "# Here's a non-Pythonic way\n",
    "for i in range(len(documents)): do_something(i)\n",
    "# Pythonic way\n",
    "for i, _ in enumerate(documents): do_something(i)"
   ]
  },
  {
   "cell_type": "code",
   "execution_count": 16,
   "metadata": {},
   "outputs": [
    {
     "name": "stdout",
     "output_type": "stream",
     "text": [
      "[('a', 1), ('b', 2), ('c', 3)]\n",
      "('a', 'b', 'c') (1, 2, 3)\n"
     ]
    }
   ],
   "source": [
    "# Zip and Argument Unpacking\n",
    "# Zipping two or more list together, zipping transforms multiple list into a single list of tuples of corres. elements\n",
    "\n",
    "list1 = ['a', 'b', 'c']\n",
    "list2 = [1, 2, 3]\n",
    "print(list(zip(list1, list2)))\n",
    "\n",
    "# Unzipping using this strange trick\n",
    "pairs = [('a', 1), ('b', 2), ('c', 3)]\n",
    "letters, numbers = zip(*pairs) #Asterisk is for argument unpacking\n",
    "print(letters, numbers)"
   ]
  },
  {
   "cell_type": "code",
   "execution_count": 22,
   "metadata": {},
   "outputs": [
    {
     "name": "stdout",
     "output_type": "stream",
     "text": [
      "unnamed args: (1, 2)\n",
      "keyword args: {'key': 'word', 'key2': 'word2'}\n",
      "6\n"
     ]
    },
    {
     "ename": "NameError",
     "evalue": "name 'f2' is not defined",
     "output_type": "error",
     "traceback": [
      "\u001b[0;31m---------------------------------------------------------------------------\u001b[0m",
      "\u001b[0;31mNameError\u001b[0m                                 Traceback (most recent call last)",
      "\u001b[0;32m<ipython-input-22-5e9e3a6262cf>\u001b[0m in \u001b[0;36m<module>\u001b[0;34m()\u001b[0m\n\u001b[1;32m     21\u001b[0m         \u001b[0;32mreturn\u001b[0m \u001b[0;36m2\u001b[0m \u001b[0;34m*\u001b[0m \u001b[0mf\u001b[0m\u001b[0;34m(\u001b[0m\u001b[0;34m*\u001b[0m\u001b[0margs\u001b[0m\u001b[0;34m,\u001b[0m \u001b[0;34m**\u001b[0m\u001b[0mkwargs\u001b[0m\u001b[0;34m)\u001b[0m\u001b[0;34m\u001b[0m\u001b[0m\n\u001b[1;32m     22\u001b[0m     \u001b[0;32mreturn\u001b[0m \u001b[0mg\u001b[0m\u001b[0;34m\u001b[0m\u001b[0m\n\u001b[0;32m---> 23\u001b[0;31m \u001b[0mg\u001b[0m \u001b[0;34m=\u001b[0m \u001b[0mdoubler_correct\u001b[0m\u001b[0;34m(\u001b[0m\u001b[0mf2\u001b[0m\u001b[0;34m)\u001b[0m\u001b[0;34m\u001b[0m\u001b[0m\n\u001b[0m\u001b[1;32m     24\u001b[0m \u001b[0mprint\u001b[0m\u001b[0;34m(\u001b[0m\u001b[0mg\u001b[0m\u001b[0;34m(\u001b[0m\u001b[0;36m1\u001b[0m\u001b[0;34m,\u001b[0m \u001b[0;36m2\u001b[0m\u001b[0;34m)\u001b[0m\u001b[0;34m)\u001b[0m\u001b[0;34m\u001b[0m\u001b[0m\n",
      "\u001b[0;31mNameError\u001b[0m: name 'f2' is not defined"
     ]
    }
   ],
   "source": [
    "# args and kwargs\n",
    "# This is a way to specify a function that takes arbitrary arguments\n",
    "def magic(*args, **kwargs):\n",
    "    print(\"unnamed args:\", args)\n",
    "    print(\"keyword args:\", kwargs)\n",
    "\n",
    "magic(1, 2, key=\"word\", key2=\"word2\")\n",
    "# args is a tuple of  its unnamed arguments and kwargs is a dict of its named arguments\n",
    "\n",
    "def other_way_magic(x, y, z):\n",
    "    return x + y + z\n",
    "x_y_list = [1,2]\n",
    "z_dict = { \"z\": 3}\n",
    "print(other_way_magic(*x_y_list ,**z_dict))\n",
    "# Only really use this to produce higher-order functions whose inputs can accept arbitrary arguments\n",
    "\n",
    "def doubler_correct(f):\n",
    "    \"\"\"works no matter what kind of inputs f expects\"\"\"\n",
    "    def g(*args, **kwargs):\n",
    "        \"\"\"whatever arguments g is supplied, pass them through to f\"\"\"\n",
    "        return 2 * f(*args, **kwargs)\n",
    "    return g\n",
    "g = doubler_correct(f2)\n",
    "print(g(1, 2))"
   ]
  },
  {
   "cell_type": "code",
   "execution_count": null,
   "metadata": {},
   "outputs": [],
   "source": []
  }
 ],
 "metadata": {
  "kernelspec": {
   "display_name": "Python 3",
   "language": "python",
   "name": "python3"
  },
  "language_info": {
   "codemirror_mode": {
    "name": "ipython",
    "version": 3
   },
   "file_extension": ".py",
   "mimetype": "text/x-python",
   "name": "python",
   "nbconvert_exporter": "python",
   "pygments_lexer": "ipython3",
   "version": "3.6.5"
  }
 },
 "nbformat": 4,
 "nbformat_minor": 2
}
