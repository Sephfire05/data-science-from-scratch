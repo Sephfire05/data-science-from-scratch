{
 "cells": [
  {
   "cell_type": "markdown",
   "metadata": {},
   "source": [
    "## Statistics"
   ]
  },
  {
   "cell_type": "code",
   "execution_count": 1,
   "metadata": {},
   "outputs": [],
   "source": [
    "Refers to mathematics and techniques with which we understand data"
   ]
  },
  {
   "cell_type": "markdown",
   "metadata": {},
   "source": [
    "## Describing a Single Set of Data"
   ]
  },
  {
   "cell_type": "code",
   "execution_count": 18,
   "metadata": {},
   "outputs": [
    {
     "data": {
      "image/png": "[encoded data removed]",
      "text/plain": [
       "<Figure size 432x288 with 1 Axes>"
      ]
     },
     "metadata": {},
     "output_type": "display_data"
    },
    {
     "name": "stdout",
     "output_type": "stream",
     "text": [
      "Length of num_friends:  204\n",
      "Sorted values: [1, 1, 1, 1, 1, 1, 1, 1, 1, 1, 1, 1, 1, 1, 1, 1, 1, 1, 1, 1, 1, 1, 2, 2, 2, 2, 2, 2, 2, 2, 2, 2, 2, 2, 2, 2, 2, 2, 2, 3, 3, 3, 3, 3, 3, 3, 3, 3, 3, 3, 3, 3, 3, 3, 3, 3, 3, 3, 3, 4, 4, 4, 4, 4, 4, 4, 4, 4, 4, 4, 4, 4, 4, 4, 4, 4, 4, 4, 4, 5, 5, 5, 5, 5, 5, 5, 5, 5, 5, 5, 5, 5, 5, 5, 5, 5, 6, 6, 6, 6, 6, 6, 6, 6, 6, 6, 6, 6, 6, 6, 6, 6, 6, 6, 6, 6, 6, 6, 7, 7, 7, 7, 7, 7, 7, 7, 7, 7, 7, 7, 7, 7, 7, 8, 8, 8, 8, 8, 8, 8, 8, 8, 8, 8, 8, 8, 9, 9, 9, 9, 9, 9, 9, 9, 9, 9, 9, 9, 9, 9, 9, 9, 9, 9, 10, 10, 10, 10, 10, 10, 10, 10, 10, 10, 10, 10, 10, 10, 10, 11, 12, 12, 13, 13, 13, 13, 14, 14, 15, 15, 15, 15, 16, 18, 18, 19, 19, 21, 21, 25, 40, 41, 49, 100]\n",
      "Smallest value: 1, 2nd smallest value: 1, 2nd largest value: 49.\n"
     ]
    }
   ],
   "source": [
    "# How do we describe the data from chapter 1?\n",
    "# Simply the data itself\n",
    "num_friends = [100,49,41,40,25,21,21,19,19,18,18,16,15,15,15,15,14,14,13,13,13,13,12,12,11,10,10,10,10,10,10,10,10,10,10,10,10,10,10,10,9,9,9,9,9,9,9,9,9,9,9,9,9,9,9,9,9,9,8,8,8,8,8,8,8,8,8,8,8,8,8,7,7,7,7,7,7,7,7,7,7,7,7,7,7,7,6,6,6,6,6,6,6,6,6,6,6,6,6,6,6,6,6,6,6,6,6,6,5,5,5,5,5,5,5,5,5,5,5,5,5,5,5,5,5,4,4,4,4,4,4,4,4,4,4,4,4,4,4,4,4,4,4,4,4,3,3,3,3,3,3,3,3,3,3,3,3,3,3,3,3,3,3,3,3,2,2,2,2,2,2,2,2,2,2,2,2,2,2,2,2,2,1,1,1,1,1,1,1,1,1,1,1,1,1,1,1,1,1,1,1,1,1,1]\n",
    "\n",
    "# First approach is putting counts into histogram using Counter and plt.bar()\n",
    "from collections import Counter\n",
    "from matplotlib import pyplot as plt\n",
    "\n",
    "friend_counts = Counter(num_friends)\n",
    "xs = range(101)                     # largest value is 100\n",
    "ys = [friend_counts[x] for x in xs] # height is just # of friends\n",
    "plt.bar(xs, ys)\n",
    "plt.axis([0, 101, 0, 25])\n",
    "plt.title(\"Histogram of Friend Counts\")\n",
    "plt.xlabel(\"# of friends\")\n",
    "plt.ylabel(\"# of people\")\n",
    "plt.show()\n",
    "\n",
    "# Generate statistics\n",
    "# Simplest is number of data points\n",
    "num_points = len(num_friends)\n",
    "print(\"Length of num_friends: \", num_points)\n",
    "# Smallest and largest values\n",
    "largest_value = max(num_friends)\n",
    "smallest_value = min(num_friends)\n",
    "\n",
    "# Values of specific positions\n",
    "sorted_values = sorted(num_friends)\n",
    "smallest_value = sorted_values[0]\n",
    "second_smallest_value = sorted_values[1]\n",
    "second_largest_value = sorted_values[-2]\n",
    "print(f\"Sorted values: {sorted_values}\\nSmallest value: {smallest_value}, 2nd smallest value: {second_smallest_value}, 2nd largest value: {second_largest_value}.\")"
   ]
  },
  {
   "cell_type": "markdown",
   "metadata": {},
   "source": [
    "## Central Tendencies"
   ]
  },
  {
   "cell_type": "code",
   "execution_count": 26,
   "metadata": {},
   "outputs": [
    {
     "name": "stdout",
     "output_type": "stream",
     "text": [
      "This is the average number of friends:  7\n",
      "This is the median point:  9.0\n",
      "Quantile percentages =  0.1: 1, 0.25: 3, 0.75: 9, 0.90: 13.\n",
      "This is the mode:  [6, 1]\n"
     ]
    }
   ],
   "source": [
    "# Where our data is centered, most commonly through mean\n",
    "from __future__ import division\n",
    "def mean(x):\n",
    "    return sum(x) // len(x)\n",
    "print(\"This is the average number of friends: \", mean(num_friends))\n",
    "\n",
    "# Median is middle most value\n",
    "def median(v):\n",
    "    \"\"\"finds the 'middle-most' value of v\"\"\"\n",
    "    n = len(v)\n",
    "    sorted_v = sorted(v) # Sort out all the values low to hi\n",
    "    midpoint = n // 2 # floor division\n",
    "    \n",
    "    if n % 2 == 1:\n",
    "        # if odd, return the middle value\n",
    "        return sorted_v[midpoint]\n",
    "    else: \n",
    "        # if even, return the average of the middle values\n",
    "        lo = midpoint - 1\n",
    "        hi = midpoint\n",
    "        return (sorted_v[lo] + sorted_v[hi] / 2)\n",
    "print(\"This is the median point: \", median(num_friends))\n",
    "# Generalization of the median is the quantile, represents the value less than which a certain percentile of the data lies\n",
    "\n",
    "def quantile(x, p):\n",
    "    \"\"\"returns the pth-percentile value in x\"\"\"\n",
    "    p_index = int(p * len(x))\n",
    "    return sorted(x)[p_index]\n",
    "\n",
    "print(f\"Quantile percentages =  0.1: {quantile(num_friends, 0.10)}, 0.25: {quantile(num_friends, 0.25)}, 0.75: {quantile(num_friends, 0.75)}, 0.90: {quantile(num_friends, 0.90)}.\")\n",
    "\n",
    "# Less common is the  mode, most common value\n",
    "\n",
    "def mode(x):\n",
    "    \"\"\"returns a list, might be more than one mode\"\"\"\n",
    "    counts = Counter(x) \n",
    "    max_count = max(counts.values()) #Counter with highest\n",
    "    return [x_i for x_i, count in counts.items() # Return a list of x values in the count items if the count\n",
    "           if count == max_count]                # is the highest count\n",
    "print(\"This is the mode: \", mode(num_friends))   # 2 max values of 1 and 6"
   ]
  },
  {
   "cell_type": "markdown",
   "metadata": {},
   "source": [
    "## Dispersion "
   ]
  },
  {
   "cell_type": "code",
   "execution_count": 44,
   "metadata": {},
   "outputs": [
    {
     "name": "stdout",
     "output_type": "stream",
     "text": [
      "This is the data range:  99\n",
      "This is the mean:  7\n",
      "This is the variance away from 7 which is an estimate:  81.65517241379311\n",
      "This is the mean:  7\n",
      "This is the standard deviation from the the sum of squares: 9.04\n",
      "The 75th percentile is:  9\n",
      "The 25th percentile is:  3\n",
      "The difference between the 75th and 25th percentile is:  6\n"
     ]
    }
   ],
   "source": [
    "# How spread out the data is\n",
    "# 0 = not spread out, large values = very spread\n",
    "# Simple measure is the range, difference between largest and smallest elements\n",
    "\n",
    "# \"range\" already means something in Python, so we'll use a different name\n",
    "def data_range(x):\n",
    "    return max(x) - min(x)\n",
    "print(\"This is the data range: \", data_range(num_friends))\n",
    "\n",
    "# More complex measure of dispersion is the variance\n",
    "\n",
    "# Dot product, 2 vectors is the sum of their componentwise products\n",
    "\n",
    "def dot(v, w): # vector projection, how far vector v extends in the w direction (v * w)w\n",
    "    \"\"\"v_i * w_i + ... + v_n * w_n\"\"\"\n",
    "    return sum(v_i * w_i                     # Multiply every vector together in the zipped tuple\n",
    "              for v_i, w_i in zip(v, w))\n",
    "\n",
    "# Sum of squares\n",
    "def sum_of_squares(v):\n",
    "    \"\"\"v_i * v_1 _ ... + v_n * v_n\"\"\"     # squared terms and adding altogther = sum\n",
    "    return dot(v, v)\n",
    "\n",
    "def de_mean(x):\n",
    "    \"\"\"translate x by subtracting its mean (so the result has mean 0)\"\"\"\n",
    "    x_bar = mean(x) # The mean is 7\n",
    "    print(\"This is the mean: \",x_bar)\n",
    "    return [x_i - x_bar for x_i in x]\n",
    "def variance(x):\n",
    "    \"\"\"assumes x has at least 2 elements\"\"\"\n",
    "    n = len(x)\n",
    "    deviations = de_mean(x)\n",
    "    return sum_of_squares(deviations) / (n - 1) # sum of squares is an underestimate of x_i's squared deviation from the mean\n",
    "# Divide by n - 1 for Bessel's correction, corrects for bias\n",
    "\n",
    "print(\"This is the variance away from 7 which is an estimate: \", variance(num_friends))\n",
    "import math\n",
    "# Standard deviation\n",
    "def standard_deviation(x):\n",
    "    return math.sqrt(variance(x))\n",
    "print(\"This is the standard deviation from the the sum of squares: %.2f\" % standard_deviation(num_friends))\n",
    "# %.2f is float to 2 decimal places and the % after converts the value.\n",
    "\n",
    "# If the deviations are to high, calculate the difference between the 75th and 25th percentile values\n",
    "def interquartile_range(x):\n",
    "    return quantile(x, 0.75) - quantile(x, 0.25)\n",
    "print(\"The 75th percentile is: \",quantile(num_friends, 0.75))\n",
    "print(\"The 25th percentile is: \",quantile(num_friends, 0.25))\n",
    "\n",
    "print(\"The difference between the 75th and 25th percentile is: \", interquartile_range(num_friends))"
   ]
  },
  {
   "cell_type": "markdown",
   "metadata": {},
   "source": [
    "## Correlation"
   ]
  },
  {
   "cell_type": "code",
   "execution_count": 67,
   "metadata": {
    "scrolled": true
   },
   "outputs": [
    {
     "name": "stdout",
     "output_type": "stream",
     "text": [
      "This is the mean:  7\n",
      "This is the mean:  29.0\n",
      "This is the covariance between deviations: 22.43\n",
      "This is the mean:  7\n",
      "This is the mean:  29.0\n",
      "This is the mean:  7\n",
      "This is the mean:  29.0\n",
      "Covariance =  22.43389162561577 stdev_x =  9.036325160915421 stdev_y =  10.039249942543861\n",
      "stdev_x / stdev_y =  0.9000996302145748\n",
      "Estimated covariance =  0.24736015006690737\n",
      "This is the mean:  7\n",
      "This is the mean:  29.0\n",
      "This would be the correlation: 0.25\n"
     ]
    },
    {
     "data": {
      "image/png": "[encoded data removed]",
      "text/plain": [
       "<Figure size 432x288 with 1 Axes>"
      ]
     },
     "metadata": {},
     "output_type": "display_data"
    },
    {
     "name": "stdout",
     "output_type": "stream",
     "text": [
      "This is the mean:  6\n",
      "This is the mean:  29.0\n",
      "This is the mean:  6\n",
      "This is the mean:  29.0\n",
      "Covariance =  35.60014851485151 stdev_x =  6.324555320336759 stdev_y =  9.869361405605497\n",
      "stdev_x / stdev_y =  0.6408272086119579\n",
      "Estimated covariance =  0.3595040640313083\n",
      "This is the mean:  6\n",
      "This is the mean:  29.0\n",
      "Correlation without outliers: 0.57\n"
     ]
    },
    {
     "data": {
      "image/png": "[encoded data removed]",
      "text/plain": [
       "<Figure size 432x288 with 1 Axes>"
      ]
     },
     "metadata": {},
     "output_type": "display_data"
    }
   ],
   "source": [
    "# Identifying relationships between 2 metrics\n",
    "# Covariance, paired analogue of variance, 2 variables vary in tandem from their means\n",
    "\n",
    "daily_minutes = [1,68.77,51.25,52.08,38.36,44.54,57.13,51.4,41.42,31.22,34.76,54.01,38.79,47.59,49.1,27.66,41.03,36.73,48.65,28.12,46.62,35.57,32.98,35,26.07,23.77,39.73,40.57,31.65,31.21,36.32,20.45,21.93,26.02,27.34,23.49,46.94,30.5,33.8,24.23,21.4,27.94,32.24,40.57,25.07,19.42,22.39,18.42,46.96,23.72,26.41,26.97,36.76,40.32,35.02,29.47,30.2,31,38.11,38.18,36.31,21.03,30.86,36.07,28.66,29.08,37.28,15.28,24.17,22.31,30.17,25.53,19.85,35.37,44.6,17.23,13.47,26.33,35.02,32.09,24.81,19.33,28.77,24.26,31.98,25.73,24.86,16.28,34.51,15.23,39.72,40.8,26.06,35.76,34.76,16.13,44.04,18.03,19.65,32.62,35.59,39.43,14.18,35.24,40.13,41.82,35.45,36.07,43.67,24.61,20.9,21.9,18.79,27.61,27.21,26.61,29.77,20.59,27.53,13.82,33.2,25,33.1,36.65,18.63,14.87,22.2,36.81,25.53,24.62,26.25,18.21,28.08,19.42,29.79,32.8,35.99,28.32,27.79,35.88,29.06,36.28,14.1,36.63,37.49,26.9,18.58,38.48,24.48,18.95,33.55,14.24,29.04,32.51,25.63,22.22,19,32.73,15.16,13.9,27.2,32.01,29.27,33,13.74,20.42,27.32,18.23,35.35,28.48,9.08,24.62,20.12,35.26,19.92,31.02,16.49,12.16,30.7,31.22,34.65,13.13,27.51,33.2,31.57,14.1,33.42,17.44,10.12,24.42,9.82,23.39,30.93,15.03,21.67,31.09,33.29,22.61,26.89,23.48,8.38,27.81,32.35,23.84]\n",
    "\n",
    "def covariance(x, y):\n",
    "    n = len(x) \n",
    "    # dot product is v_i * w_i, sum of corresponding pairs of elements\n",
    "    # deviation mean of x and y as a dot product / Bessel's correction for bias\n",
    "    return dot(de_mean(x), de_mean(y)) / (n - 1) # n - 1 for Bessel's correction of bias\n",
    "print(\"This is the covariance between deviations: %.2f\" % covariance(num_friends, daily_minutes))\n",
    "\n",
    "# a large positive covariance indicates high y and x and small when y is small. \n",
    "# a large negative covariance means the opposite, x small when y is large and vice versa\n",
    "# covariance close to 0 indciates no relationship exists\n",
    "\n",
    "# Hard to interpret for a # of reasons\n",
    "# What is friend-minutes-per-day and what really counts as large covariance\n",
    "\n",
    "# More common to look at correlation\n",
    "# Divides out the standard deviations of both variables\n",
    "\n",
    "def correlation(x, y):\n",
    "    stdev_x = standard_deviation(x)\n",
    "    stdev_y = standard_deviation(y)\n",
    "    if stdev_x > 0 and stdev_y > 0:\n",
    "        print(\"Covariance = \", covariance(x, y), \"stdev_x = \", stdev_x, \"stdev_y = \", stdev_y)\n",
    "        print(\"stdev_x / stdev_y = \", stdev_x / stdev_y)\n",
    "        print(\"Estimated covariance = \", 22.44 / stdev_x / stdev_y)\n",
    "        return covariance(x, y) / stdev_x / stdev_y\n",
    "    \n",
    "    else:\n",
    "        return 0    # if no variation, correlation is zero\n",
    "print(\"This would be the correlation: %.2f\" % correlation(num_friends, daily_minutes))\n",
    "\n",
    "# The correlation is unitless and will lie between -1 and 1 (perfect anti-correlation and perfect correlation)\n",
    "# .25 is a relatively weak positive correlation\n",
    "\n",
    "# Scatterplot \n",
    "from matplotlib import pyplot as plt\n",
    "plt.scatter(num_friends, daily_minutes)\n",
    "plt.xlabel(\"# of friends\")\n",
    "plt.ylabel(\"minutes per day\")\n",
    "plt.title(\"Correlation with an Outlier\")\n",
    "plt.show(num_friends, daily_minutes)\n",
    "\n",
    "outlier = num_friends.index(100)     # index of outlier\n",
    "\n",
    "num_friends_good = [x\n",
    "                   for i, x in enumerate(num_friends)\n",
    "                   if i != outlier]\n",
    "daily_minutes_good = [x\n",
    "                     for i, x in enumerate(daily_minutes)\n",
    "                     if i != outlier]\n",
    "print(\"Correlation without outliers: %.2f\" % correlation(num_friends_good, daily_minutes_good))\n",
    "\n",
    "# Regraph after removing outlier\n",
    "from matplotlib import pyplot as plt\n",
    "plt.scatter(num_friends_good, daily_minutes_good)\n",
    "v = 0, 51, 0, 100\n",
    "plt.axis(v) # Set axis up with ranges above\n",
    "plt.xlabel(\"# of friends\")\n",
    "plt.ylabel(\"minutes per day\")\n",
    "plt.title(\"Correlation After Removing the Outlier\")\n",
    "plt.show(num_friends_good, daily_minutes_good)"
   ]
  },
  {
   "cell_type": "markdown",
   "metadata": {},
   "source": [
    "## Simpsons Paradox"
   ]
  },
  {
   "cell_type": "markdown",
   "metadata": {},
   "source": [
    "#### Correlations can be misleading when confounding variables are ignored\n",
    "#### Correlation is measuring the relationship between 2 variables with ALL ELSE being equal\n",
    "#### Only realy way to avoid this is by knowing your data"
   ]
  },
  {
   "cell_type": "markdown",
   "metadata": {},
   "source": [
    "## Some other Correlational Caveats"
   ]
  },
  {
   "cell_type": "markdown",
   "metadata": {},
   "source": [
    "#### The correlation says x(or y)_i compares to mean(x(or y)) \n",
    "#### Correlation tells you nothing about how large the relationship is"
   ]
  },
  {
   "cell_type": "markdown",
   "metadata": {},
   "source": [
    "## Correlation and Causation"
   ]
  },
  {
   "cell_type": "markdown",
   "metadata": {},
   "source": [
    "#### Correlation is not causation usually said by someone who was reluctant to the data\n",
    "#### It can mean something or it can mean nothing\n",
    "##### One way to feel more confident is to conduct randomized trials"
   ]
  },
  {
   "cell_type": "code",
   "execution_count": null,
   "metadata": {},
   "outputs": [],
   "source": []
  }
 ],
 "metadata": {
  "kernelspec": {
   "display_name": "Python 3",
   "language": "python",
   "name": "python3"
  },
  "language_info": {
   "codemirror_mode": {
    "name": "ipython",
    "version": 3
   },
   "file_extension": ".py",
   "mimetype": "text/x-python",
   "name": "python",
   "nbconvert_exporter": "python",
   "pygments_lexer": "ipython3",
   "version": "3.6.5"
  }
 },
 "nbformat": 4,
 "nbformat_minor": 2
}
