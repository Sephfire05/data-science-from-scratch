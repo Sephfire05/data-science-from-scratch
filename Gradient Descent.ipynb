{
 "cells": [
  {
   "cell_type": "code",
   "execution_count": 1,
   "metadata": {},
   "outputs": [],
   "source": [
    "# The best model minimizes the error of the model or maximizes the likelihood of the data\n",
    "# It will represent the solution to some sort of optimization problem\n",
    "\n",
    "# One approach to solving optimization problems is called the gradient descent"
   ]
  },
  {
   "cell_type": "markdown",
   "metadata": {},
   "source": [
    "## The Idea Behind Gradient Descent"
   ]
  },
  {
   "cell_type": "code",
   "execution_count": 2,
   "metadata": {},
   "outputs": [],
   "source": [
    "# The gradient is the vector of partial derivatives.  This gives the input direction in which the function most\n",
    "# quickly increases\n",
    "# Pick a random starting point, compute the gradient, take a small step in the direction of the gradient\n",
    "# function increase most = maximization, function decrease = minimization"
   ]
  },
  {
   "cell_type": "markdown",
   "metadata": {},
   "source": [
    "## Estimating the Gradient"
   ]
  },
  {
   "cell_type": "code",
   "execution_count": 9,
   "metadata": {},
   "outputs": [
    {
     "name": "stderr",
     "output_type": "stream",
     "text": [
      "No handles with labels found to put in legend.\n"
     ]
    },
    {
     "data": {
      "image/png": "[encoded data removed]",
      "text/plain": [
       "<Figure size 432x288 with 1 Axes>"
      ]
     },
     "metadata": {},
     "output_type": "display_data"
    }
   ],
   "source": [
    "# If f is a function of one variabl, its derivative at a point x measures how f(x) changes when we make a small\n",
    "# change to x (The limit of the difference quotients)\n",
    "def difference_quotient(f, x, h):\n",
    "    return (f(x + h) - f(x)) / h # as h approaches 0\n",
    "def square(x):\n",
    "    return x * x\n",
    "def derivative(x):\n",
    "    return 2 * x\n",
    "from functools import partial\n",
    "\n",
    "# Derivative is the slope of the tangent line at (x, f(x))\n",
    "derivative_estimate = partial(difference_quotient, square, h=0.0001)\n",
    "# plot to show they're basically the same\n",
    "import matplotlib.pyplot as plt\n",
    "x = range(-10, 10)\n",
    "plt.title(\"Actual Derivatives vs. Estimates\")\n",
    "#plt.plot(x, map(derivative, x), 'rx', label='Actual')\n",
    "#plt.plot(x, map(derivative_estimate, x), 'b+', label='Estimate')\n",
    "plt.legend(loc=9)\n",
    "plt.show()\n",
    "\n",
    "# Calculate the ith partial derivative by tearting it as a function of just the ith variable, holding others fixed\n",
    "def partial_difference_quotient(f, v, i, h):\n",
    "    \"\"\"compute the ith partial difference quotient of f at v\"\"\"\n",
    "    w = [v_j + (h if j == i else 0)     # add h to just the ith element of v\n",
    "        for j, v_j in enumerate(v)]\n",
    "    \n",
    "    return (f(x) - f(v)) / h\n",
    "\n",
    "# Estimate using difference quotients is computationally expensive\n"
   ]
  },
  {
   "cell_type": "markdown",
   "metadata": {},
   "source": [
    "## Using the Gradient"
   ]
  },
  {
   "cell_type": "code",
   "execution_count": 11,
   "metadata": {},
   "outputs": [
    {
     "ename": "NameError",
     "evalue": "name 'distance' is not defined",
     "output_type": "error",
     "traceback": [
      "\u001b[0;31m---------------------------------------------------------------------------\u001b[0m",
      "\u001b[0;31mNameError\u001b[0m                                 Traceback (most recent call last)",
      "\u001b[0;32m<ipython-input-11-feb7b50171cc>\u001b[0m in \u001b[0;36m<module>\u001b[0;34m()\u001b[0m\n\u001b[1;32m     16\u001b[0m     \u001b[0mgradient\u001b[0m \u001b[0;34m=\u001b[0m \u001b[0msum_of_squares_gradient\u001b[0m\u001b[0;34m(\u001b[0m\u001b[0mv\u001b[0m\u001b[0;34m)\u001b[0m            \u001b[0;31m# compute the gradient at v\u001b[0m\u001b[0;34m\u001b[0m\u001b[0m\n\u001b[1;32m     17\u001b[0m     \u001b[0mnext_v\u001b[0m \u001b[0;34m=\u001b[0m \u001b[0mstep\u001b[0m\u001b[0;34m(\u001b[0m\u001b[0mv\u001b[0m\u001b[0;34m,\u001b[0m \u001b[0mgradient\u001b[0m\u001b[0;34m,\u001b[0m \u001b[0;34m-\u001b[0m\u001b[0;36m0.01\u001b[0m\u001b[0;34m)\u001b[0m                \u001b[0;31m# take a negative gradient step\u001b[0m\u001b[0;34m\u001b[0m\u001b[0m\n\u001b[0;32m---> 18\u001b[0;31m     \u001b[0;32mif\u001b[0m \u001b[0mdistance\u001b[0m\u001b[0;34m(\u001b[0m\u001b[0mnext_v\u001b[0m\u001b[0;34m,\u001b[0m \u001b[0mv\u001b[0m\u001b[0;34m)\u001b[0m \u001b[0;34m<\u001b[0m \u001b[0mtolerance\u001b[0m\u001b[0;34m:\u001b[0m              \u001b[0;31m# stop if we're converging\u001b[0m\u001b[0;34m\u001b[0m\u001b[0m\n\u001b[0m\u001b[1;32m     19\u001b[0m         \u001b[0;32mbreak\u001b[0m\u001b[0;34m\u001b[0m\u001b[0m\n\u001b[1;32m     20\u001b[0m     \u001b[0mv\u001b[0m \u001b[0;34m=\u001b[0m \u001b[0mnext_v\u001b[0m                                       \u001b[0;31m# continue if we're not\u001b[0m\u001b[0;34m\u001b[0m\u001b[0m\n",
      "\u001b[0;31mNameError\u001b[0m: name 'distance' is not defined"
     ]
    }
   ],
   "source": [
    "# Let's use gradients to find the minimum among all 3-D vectors\n",
    "import random \n",
    "\n",
    "def step(v, direction, step_size):\n",
    "    \"\"\"move step_size in the direction from v\"\"\"\n",
    "    return [v_i + step_size * direction_i\n",
    "           for v_i, direction_i in zip(v, direction)]\n",
    "def sum_of_squares_gradient(v):\n",
    "    return [2 * v_i for v_i in v] \n",
    "# pick a random starting point\n",
    "v = [random.randint(-10, 10) for i in range(3)]\n",
    "\n",
    "tolerance = 0.0000001\n",
    "\n",
    "while True:\n",
    "    gradient = sum_of_squares_gradientRuntimeError: matplotlib does not support generators as input(v)            # compute the gradient at v\n",
    "    next_v = step(v, gradient, -0.01)                # take a negative gradient step\n",
    "    if distance(next_v, v) < tolerance:              # stop if we're converging\n",
    "        break\n",
    "    v = next_v                                       # continue if we're not"
   ]
  },
  {
   "cell_type": "markdown",
   "metadata": {},
   "source": [
    "## Stochastic Gradient Descent"
   ]
  },
  {
   "cell_type": "code",
   "execution_count": null,
   "metadata": {},
   "outputs": [],
   "source": [
    "# This computes the gradient (and takes a step) for only one point at a time\n",
    "# Cycles over data repeatedly until it reaches a stopping point\n",
    "\n",
    "def in_random_order(data):\n",
    "    \"\"\"generator that returns the elements of data in random order\"\"\"\n",
    "    indexes = [i for i, _ in enumerate(data)]       # create a list of indexes\n",
    "    random.shuffle(indexes)                         # shuffle them\n",
    "    for i in indexes:                               # return the data in that order\n",
    "        yield data[i]\n",
    "# Decrease the step size and eventually quit\n",
    "\n",
    "def minimize_stochastic(target_fn, gradient_fn, x, y, theta_0, alpha_0=0.01):\n",
    "    data = zip(x, y)                             # tupled data\n",
    "    theta = theta_0                              # initial guess\n",
    "    alpha = alpha_0                              # initial step size\n",
    "    min_theta, min_value = None, float(\"inf\")    # the min so far\n",
    "    iterations_with_no_improvement = 0\n",
    "    \n",
    "    # if we ever go 100 iterations with no improvement, stop\n",
    "    while iterations_with_no_improvement < 100:\n",
    "        value = sum(target_fn(x_i, y_i, theta) for x_i, y_i in data)\n",
    "        \n",
    "        if value < min_value:\n",
    "            # if we've found a new min, remember it\n",
    "            # and go back to the original step size\n",
    "            min_theta, min_value = theta, value\n",
    "            iterations_with_no_improvement = 0\n",
    "            alpha = alpha_o\n",
    "        else:\n",
    "            # otherwise we're not improving, so try shrinking the step size\n",
    "            iterations_with_no_improvement += 1\n",
    "            alpha *= 0.9\n",
    "        \n",
    "        # and take a gradient step for each of the data points\n",
    "        for x_i, y_i in in_random_order(data):\n",
    "            gradient_i = gradient_fn(x_i, y_i, theta)\n",
    "            theta = vector_subtract(theta, scalar_multiply(alpha, gradient_i))\n",
    "            \n",
    "    return min_theta\n",
    "\n",
    "def maximize_stochastic(target_fn, gradient_fn, x, y, theta_0, alpha_0=0.01):\n",
    "    return minimize_stochastic(negate(target_fn),\n",
    "                              negate_all(gradient_fn),\n",
    "                              x, y, theta_0, alpha_0)"
   ]
  }
 ],
 "metadata": {
  "kernelspec": {
   "display_name": "Python 3",
   "language": "python",
   "name": "python3"
  },
  "language_info": {
   "codemirror_mode": {
    "name": "ipython",
    "version": 3
   },
   "file_extension": ".py",
   "mimetype": "text/x-python",
   "name": "python",
   "nbconvert_exporter": "python",
   "pygments_lexer": "ipython3",
   "version": "3.6.5"
  }
 },
 "nbformat": 4,
 "nbformat_minor": 2
}
